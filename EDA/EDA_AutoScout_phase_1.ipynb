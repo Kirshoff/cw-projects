{
 "cells": [
  {
   "cell_type": "markdown",
   "metadata": {},
   "source": [
    "## Introduction\n",
    "    ** We will work with 3 notebooks. **\n",
    "\n",
    "    . First notebook is related with 'cleaning data'. It deals with Incorrect Headers, Incorrect Format, Anomalies, Dropping useless columns\n",
    "    \n",
    "    . Second notebook is related with 'filling data'. It deals with Missing Values. Categorical to numeric transformation is done.\n",
    "\n",
    "    . Third notebook is related with 'outliers of data' via Visualisation libraries. Final review "
   ]
  },
  {
   "cell_type": "markdown",
   "metadata": {},
   "source": [
    "## Import Libraries and Data"
   ]
  },
  {
   "cell_type": "code",
   "execution_count": 1,
   "metadata": {},
   "outputs": [],
   "source": [
    "import numpy as np\n",
    "import pandas as pd\n",
    "import seaborn as sns \n",
    "import matplotlib.pyplot as plt\n",
    "import warnings\n",
    "warnings.filterwarnings('ignore')\n",
    "warnings.warn(\"this will not show\")"
   ]
  },
  {
   "cell_type": "code",
   "execution_count": 2,
   "metadata": {},
   "outputs": [],
   "source": [
    "pd.options.display.max_rows = 100\n",
    "pd.options.display.max_columns = 100"
   ]
  },
  {
   "cell_type": "code",
   "execution_count": 3,
   "metadata": {},
   "outputs": [],
   "source": [
    "df = pd.read_json(\"scout_car.json\", lines=True)"
   ]
  },
  {
   "cell_type": "markdown",
   "metadata": {},
   "source": [
    "## Check Data"
   ]
  },
  {
   "cell_type": "code",
   "execution_count": 4,
   "metadata": {},
   "outputs": [
    {
     "data": {
      "text/html": [
       "<div>\n",
       "<style scoped>\n",
       "    .dataframe tbody tr th:only-of-type {\n",
       "        vertical-align: middle;\n",
       "    }\n",
       "\n",
       "    .dataframe tbody tr th {\n",
       "        vertical-align: top;\n",
       "    }\n",
       "\n",
       "    .dataframe thead th {\n",
       "        text-align: right;\n",
       "    }\n",
       "</style>\n",
       "<table border=\"1\" class=\"dataframe\">\n",
       "  <thead>\n",
       "    <tr style=\"text-align: right;\">\n",
       "      <th></th>\n",
       "      <th>url</th>\n",
       "      <th>make_model</th>\n",
       "      <th>short_description</th>\n",
       "      <th>body_type</th>\n",
       "      <th>price</th>\n",
       "      <th>vat</th>\n",
       "      <th>km</th>\n",
       "      <th>registration</th>\n",
       "      <th>prev_owner</th>\n",
       "      <th>kW</th>\n",
       "      <th>hp</th>\n",
       "      <th>Type</th>\n",
       "      <th>Previous Owners</th>\n",
       "      <th>Next Inspection</th>\n",
       "      <th>Inspection new</th>\n",
       "      <th>Warranty</th>\n",
       "      <th>Full Service</th>\n",
       "      <th>Non-smoking Vehicle</th>\n",
       "      <th>null</th>\n",
       "      <th>Make</th>\n",
       "      <th>Model</th>\n",
       "      <th>Offer Number</th>\n",
       "      <th>First Registration</th>\n",
       "      <th>Body Color</th>\n",
       "      <th>Paint Type</th>\n",
       "      <th>Body Color Original</th>\n",
       "      <th>Upholstery</th>\n",
       "      <th>Body</th>\n",
       "      <th>Nr. of Doors</th>\n",
       "      <th>Nr. of Seats</th>\n",
       "      <th>Model Code</th>\n",
       "      <th>Gearing Type</th>\n",
       "      <th>Displacement</th>\n",
       "      <th>Cylinders</th>\n",
       "      <th>Weight</th>\n",
       "      <th>Drive chain</th>\n",
       "      <th>Fuel</th>\n",
       "      <th>Consumption</th>\n",
       "      <th>CO2 Emission</th>\n",
       "      <th>Emission Class</th>\n",
       "      <th>\\nComfort &amp; Convenience\\n</th>\n",
       "      <th>\\nEntertainment &amp; Media\\n</th>\n",
       "      <th>\\nExtras\\n</th>\n",
       "      <th>\\nSafety &amp; Security\\n</th>\n",
       "      <th>description</th>\n",
       "      <th>Emission Label</th>\n",
       "      <th>Gears</th>\n",
       "      <th>Country version</th>\n",
       "      <th>Electricity consumption</th>\n",
       "      <th>Last Service Date</th>\n",
       "      <th>Other Fuel Types</th>\n",
       "      <th>Availability</th>\n",
       "      <th>Last Timing Belt Service Date</th>\n",
       "      <th>Available from</th>\n",
       "    </tr>\n",
       "  </thead>\n",
       "  <tbody>\n",
       "    <tr>\n",
       "      <th>0</th>\n",
       "      <td>https://www.autoscout24.com//offers/audi-a1-sp...</td>\n",
       "      <td>Audi A1</td>\n",
       "      <td>Sportback 1.4 TDI S-tronic Xenon Navi Klima</td>\n",
       "      <td>Sedans</td>\n",
       "      <td>15770</td>\n",
       "      <td>VAT deductible</td>\n",
       "      <td>56,013 km</td>\n",
       "      <td>01/2016</td>\n",
       "      <td>2 previous owners</td>\n",
       "      <td>NaN</td>\n",
       "      <td>66 kW</td>\n",
       "      <td>[, Used, , Diesel (Particulate Filter)]</td>\n",
       "      <td>\\n2\\n</td>\n",
       "      <td>[\\n06/2021\\n, \\n99 g CO2/km (comb)\\n]</td>\n",
       "      <td>[\\nYes\\n, \\nEuro 6\\n]</td>\n",
       "      <td>[\\n, \\n, \\n4 (Green)\\n]</td>\n",
       "      <td>[\\n, \\n]</td>\n",
       "      <td>[\\n, \\n]</td>\n",
       "      <td>[]</td>\n",
       "      <td>\\nAudi\\n</td>\n",
       "      <td>[\\n, A1, \\n]</td>\n",
       "      <td>[\\nLR-062483\\n]</td>\n",
       "      <td>[\\n, 2016, \\n]</td>\n",
       "      <td>[\\n, Black, \\n]</td>\n",
       "      <td>[\\nMetallic\\n]</td>\n",
       "      <td>[\\nMythosschwarz\\n]</td>\n",
       "      <td>[\\nCloth, Black\\n]</td>\n",
       "      <td>[\\n, Sedans, \\n]</td>\n",
       "      <td>[\\n5\\n]</td>\n",
       "      <td>[\\n5\\n]</td>\n",
       "      <td>[\\n0588/BDF\\n]</td>\n",
       "      <td>[\\n, Automatic, \\n]</td>\n",
       "      <td>[\\n1,422 cc\\n]</td>\n",
       "      <td>[\\n3\\n]</td>\n",
       "      <td>[\\n1,220 kg\\n]</td>\n",
       "      <td>[\\nfront\\n]</td>\n",
       "      <td>[\\n, Diesel (Particulate Filter), \\n]</td>\n",
       "      <td>[[3.8 l/100 km (comb)], [4.3 l/100 km (city)],...</td>\n",
       "      <td>[\\n99 g CO2/km (comb)\\n]</td>\n",
       "      <td>[\\nEuro 6\\n]</td>\n",
       "      <td>[Air conditioning, Armrest, Automatic climate ...</td>\n",
       "      <td>[Bluetooth, Hands-free equipment, On-board com...</td>\n",
       "      <td>[Alloy wheels, Catalytic Converter, Voice Cont...</td>\n",
       "      <td>[ABS, Central door lock, Daytime running light...</td>\n",
       "      <td>[\\n, Sicherheit:,  , Deaktivierung für Beifahr...</td>\n",
       "      <td>NaN</td>\n",
       "      <td>NaN</td>\n",
       "      <td>NaN</td>\n",
       "      <td>NaN</td>\n",
       "      <td>NaN</td>\n",
       "      <td>NaN</td>\n",
       "      <td>NaN</td>\n",
       "      <td>NaN</td>\n",
       "      <td>NaN</td>\n",
       "    </tr>\n",
       "    <tr>\n",
       "      <th>1</th>\n",
       "      <td>https://www.autoscout24.com//offers/audi-a1-1-...</td>\n",
       "      <td>Audi A1</td>\n",
       "      <td>1.8 TFSI sport</td>\n",
       "      <td>Sedans</td>\n",
       "      <td>14500</td>\n",
       "      <td>Price negotiable</td>\n",
       "      <td>80,000 km</td>\n",
       "      <td>03/2017</td>\n",
       "      <td>None</td>\n",
       "      <td>NaN</td>\n",
       "      <td>141 kW</td>\n",
       "      <td>[, Used, , Gasoline]</td>\n",
       "      <td>NaN</td>\n",
       "      <td>NaN</td>\n",
       "      <td>NaN</td>\n",
       "      <td>NaN</td>\n",
       "      <td>NaN</td>\n",
       "      <td>NaN</td>\n",
       "      <td>[]</td>\n",
       "      <td>\\nAudi\\n</td>\n",
       "      <td>[\\n, A1, \\n]</td>\n",
       "      <td>NaN</td>\n",
       "      <td>[\\n, 2017, \\n]</td>\n",
       "      <td>[\\n, Red, \\n]</td>\n",
       "      <td>NaN</td>\n",
       "      <td>NaN</td>\n",
       "      <td>[\\nCloth, Grey\\n]</td>\n",
       "      <td>[\\n, Sedans, \\n]</td>\n",
       "      <td>[\\n3\\n]</td>\n",
       "      <td>[\\n4\\n]</td>\n",
       "      <td>[\\n0588/BCY\\n]</td>\n",
       "      <td>[\\n, Automatic, \\n]</td>\n",
       "      <td>[\\n1,798 cc\\n]</td>\n",
       "      <td>[\\n4\\n]</td>\n",
       "      <td>[\\n1,255 kg\\n]</td>\n",
       "      <td>[\\nfront\\n]</td>\n",
       "      <td>[\\n, Gasoline, \\n]</td>\n",
       "      <td>[[5.6 l/100 km (comb)], [7.1 l/100 km (city)],...</td>\n",
       "      <td>[\\n129 g CO2/km (comb)\\n]</td>\n",
       "      <td>[\\nEuro 6\\n]</td>\n",
       "      <td>[Air conditioning, Automatic climate control, ...</td>\n",
       "      <td>[Bluetooth, Hands-free equipment, On-board com...</td>\n",
       "      <td>[Alloy wheels, Sport seats, Sport suspension, ...</td>\n",
       "      <td>[ABS, Central door lock, Central door lock wit...</td>\n",
       "      <td>[\\nLangstreckenfahrzeug daher die hohe Kilomet...</td>\n",
       "      <td>[\\n4 (Green)\\n]</td>\n",
       "      <td>[\\n7\\n]</td>\n",
       "      <td>NaN</td>\n",
       "      <td>NaN</td>\n",
       "      <td>NaN</td>\n",
       "      <td>NaN</td>\n",
       "      <td>NaN</td>\n",
       "      <td>NaN</td>\n",
       "      <td>NaN</td>\n",
       "    </tr>\n",
       "  </tbody>\n",
       "</table>\n",
       "</div>"
      ],
      "text/plain": [
       "                                                 url make_model  \\\n",
       "0  https://www.autoscout24.com//offers/audi-a1-sp...    Audi A1   \n",
       "1  https://www.autoscout24.com//offers/audi-a1-1-...    Audi A1   \n",
       "\n",
       "                             short_description body_type  price  \\\n",
       "0  Sportback 1.4 TDI S-tronic Xenon Navi Klima    Sedans  15770   \n",
       "1                               1.8 TFSI sport    Sedans  14500   \n",
       "\n",
       "                vat         km registration         prev_owner  kW      hp  \\\n",
       "0    VAT deductible  56,013 km      01/2016  2 previous owners NaN   66 kW   \n",
       "1  Price negotiable  80,000 km      03/2017               None NaN  141 kW   \n",
       "\n",
       "                                      Type Previous Owners  \\\n",
       "0  [, Used, , Diesel (Particulate Filter)]           \\n2\\n   \n",
       "1                     [, Used, , Gasoline]             NaN   \n",
       "\n",
       "                         Next Inspection         Inspection new  \\\n",
       "0  [\\n06/2021\\n, \\n99 g CO2/km (comb)\\n]  [\\nYes\\n, \\nEuro 6\\n]   \n",
       "1                                    NaN                    NaN   \n",
       "\n",
       "                  Warranty Full Service Non-smoking Vehicle null      Make  \\\n",
       "0  [\\n, \\n, \\n4 (Green)\\n]     [\\n, \\n]            [\\n, \\n]   []  \\nAudi\\n   \n",
       "1                      NaN          NaN                 NaN   []  \\nAudi\\n   \n",
       "\n",
       "          Model     Offer Number First Registration       Body Color  \\\n",
       "0  [\\n, A1, \\n]  [\\nLR-062483\\n]     [\\n, 2016, \\n]  [\\n, Black, \\n]   \n",
       "1  [\\n, A1, \\n]              NaN     [\\n, 2017, \\n]    [\\n, Red, \\n]   \n",
       "\n",
       "       Paint Type  Body Color Original          Upholstery              Body  \\\n",
       "0  [\\nMetallic\\n]  [\\nMythosschwarz\\n]  [\\nCloth, Black\\n]  [\\n, Sedans, \\n]   \n",
       "1             NaN                  NaN   [\\nCloth, Grey\\n]  [\\n, Sedans, \\n]   \n",
       "\n",
       "  Nr. of Doors Nr. of Seats      Model Code         Gearing Type  \\\n",
       "0      [\\n5\\n]      [\\n5\\n]  [\\n0588/BDF\\n]  [\\n, Automatic, \\n]   \n",
       "1      [\\n3\\n]      [\\n4\\n]  [\\n0588/BCY\\n]  [\\n, Automatic, \\n]   \n",
       "\n",
       "     Displacement Cylinders          Weight  Drive chain  \\\n",
       "0  [\\n1,422 cc\\n]   [\\n3\\n]  [\\n1,220 kg\\n]  [\\nfront\\n]   \n",
       "1  [\\n1,798 cc\\n]   [\\n4\\n]  [\\n1,255 kg\\n]  [\\nfront\\n]   \n",
       "\n",
       "                                    Fuel  \\\n",
       "0  [\\n, Diesel (Particulate Filter), \\n]   \n",
       "1                     [\\n, Gasoline, \\n]   \n",
       "\n",
       "                                         Consumption  \\\n",
       "0  [[3.8 l/100 km (comb)], [4.3 l/100 km (city)],...   \n",
       "1  [[5.6 l/100 km (comb)], [7.1 l/100 km (city)],...   \n",
       "\n",
       "                CO2 Emission Emission Class  \\\n",
       "0   [\\n99 g CO2/km (comb)\\n]   [\\nEuro 6\\n]   \n",
       "1  [\\n129 g CO2/km (comb)\\n]   [\\nEuro 6\\n]   \n",
       "\n",
       "                           \\nComfort & Convenience\\n  \\\n",
       "0  [Air conditioning, Armrest, Automatic climate ...   \n",
       "1  [Air conditioning, Automatic climate control, ...   \n",
       "\n",
       "                           \\nEntertainment & Media\\n  \\\n",
       "0  [Bluetooth, Hands-free equipment, On-board com...   \n",
       "1  [Bluetooth, Hands-free equipment, On-board com...   \n",
       "\n",
       "                                          \\nExtras\\n  \\\n",
       "0  [Alloy wheels, Catalytic Converter, Voice Cont...   \n",
       "1  [Alloy wheels, Sport seats, Sport suspension, ...   \n",
       "\n",
       "                               \\nSafety & Security\\n  \\\n",
       "0  [ABS, Central door lock, Daytime running light...   \n",
       "1  [ABS, Central door lock, Central door lock wit...   \n",
       "\n",
       "                                         description   Emission Label  \\\n",
       "0  [\\n, Sicherheit:,  , Deaktivierung für Beifahr...              NaN   \n",
       "1  [\\nLangstreckenfahrzeug daher die hohe Kilomet...  [\\n4 (Green)\\n]   \n",
       "\n",
       "     Gears Country version Electricity consumption Last Service Date  \\\n",
       "0      NaN             NaN                     NaN               NaN   \n",
       "1  [\\n7\\n]             NaN                     NaN               NaN   \n",
       "\n",
       "  Other Fuel Types Availability Last Timing Belt Service Date Available from  \n",
       "0              NaN          NaN                           NaN            NaN  \n",
       "1              NaN          NaN                           NaN            NaN  "
      ]
     },
     "execution_count": 4,
     "metadata": {},
     "output_type": "execute_result"
    }
   ],
   "source": [
    "df.head(2)"
   ]
  },
  {
   "cell_type": "code",
   "execution_count": 5,
   "metadata": {},
   "outputs": [
    {
     "data": {
      "text/plain": [
       "(15919, 54)"
      ]
     },
     "execution_count": 5,
     "metadata": {},
     "output_type": "execute_result"
    }
   ],
   "source": [
    "df.shape"
   ]
  },
  {
   "cell_type": "code",
   "execution_count": 6,
   "metadata": {},
   "outputs": [
    {
     "name": "stdout",
     "output_type": "stream",
     "text": [
      "<class 'pandas.core.frame.DataFrame'>\n",
      "RangeIndex: 15919 entries, 0 to 15918\n",
      "Data columns (total 54 columns):\n",
      " #   Column                         Non-Null Count  Dtype  \n",
      "---  ------                         --------------  -----  \n",
      " 0   url                            15919 non-null  object \n",
      " 1   make_model                     15919 non-null  object \n",
      " 2   short_description              15873 non-null  object \n",
      " 3   body_type                      15859 non-null  object \n",
      " 4   price                          15919 non-null  int64  \n",
      " 5   vat                            11406 non-null  object \n",
      " 6   km                             15919 non-null  object \n",
      " 7   registration                   15919 non-null  object \n",
      " 8   prev_owner                     9091 non-null   object \n",
      " 9   kW                             0 non-null      float64\n",
      " 10  hp                             15919 non-null  object \n",
      " 11  Type                           15917 non-null  object \n",
      " 12  Previous Owners                9279 non-null   object \n",
      " 13  Next Inspection                3535 non-null   object \n",
      " 14  Inspection new                 3932 non-null   object \n",
      " 15  Warranty                       10499 non-null  object \n",
      " 16  Full Service                   8215 non-null   object \n",
      " 17  Non-smoking Vehicle            7177 non-null   object \n",
      " 18  null                           15919 non-null  object \n",
      " 19  Make                           15919 non-null  object \n",
      " 20  Model                          15919 non-null  object \n",
      " 21  Offer Number                   12744 non-null  object \n",
      " 22  First Registration             14322 non-null  object \n",
      " 23  Body Color                     15322 non-null  object \n",
      " 24  Paint Type                     10147 non-null  object \n",
      " 25  Body Color Original            12160 non-null  object \n",
      " 26  Upholstery                     12199 non-null  object \n",
      " 27  Body                           15859 non-null  object \n",
      " 28  Nr. of Doors                   15707 non-null  object \n",
      " 29  Nr. of Seats                   14942 non-null  object \n",
      " 30  Model Code                     4978 non-null   object \n",
      " 31  Gearing Type                   15919 non-null  object \n",
      " 32  Displacement                   15423 non-null  object \n",
      " 33  Cylinders                      10239 non-null  object \n",
      " 34  Weight                         8945 non-null   object \n",
      " 35  Drive chain                    9061 non-null   object \n",
      " 36  Fuel                           15919 non-null  object \n",
      " 37  Consumption                    14013 non-null  object \n",
      " 38  CO2 Emission                   14111 non-null  object \n",
      " 39  Emission Class                 12898 non-null  object \n",
      " 40  \n",
      "Comfort & Convenience\n",
      "        14999 non-null  object \n",
      " 41  \n",
      "Entertainment & Media\n",
      "        14545 non-null  object \n",
      " 42  \n",
      "Extras\n",
      "                       12957 non-null  object \n",
      " 43  \n",
      "Safety & Security\n",
      "            14937 non-null  object \n",
      " 44  description                    15919 non-null  object \n",
      " 45  Emission Label                 3985 non-null   object \n",
      " 46  Gears                          11207 non-null  object \n",
      " 47  Country version                7586 non-null   object \n",
      " 48  Electricity consumption        137 non-null    object \n",
      " 49  Last Service Date              566 non-null    object \n",
      " 50  Other Fuel Types               880 non-null    object \n",
      " 51  Availability                   635 non-null    object \n",
      " 52  Last Timing Belt Service Date  16 non-null     object \n",
      " 53  Available from                 272 non-null    object \n",
      "dtypes: float64(1), int64(1), object(52)\n",
      "memory usage: 6.6+ MB\n"
     ]
    }
   ],
   "source": [
    "df.info()"
   ]
  },
  {
   "cell_type": "code",
   "execution_count": 7,
   "metadata": {},
   "outputs": [
    {
     "data": {
      "text/plain": [
       "Index(['url', 'make_model', 'short_description', 'body_type', 'price', 'vat',\n",
       "       'km', 'registration', 'prev_owner', 'kW', 'hp', 'Type',\n",
       "       'Previous Owners', 'Next Inspection', 'Inspection new', 'Warranty',\n",
       "       'Full Service', 'Non-smoking Vehicle', 'null', 'Make', 'Model',\n",
       "       'Offer Number', 'First Registration', 'Body Color', 'Paint Type',\n",
       "       'Body Color Original', 'Upholstery', 'Body', 'Nr. of Doors',\n",
       "       'Nr. of Seats', 'Model Code', 'Gearing Type', 'Displacement',\n",
       "       'Cylinders', 'Weight', 'Drive chain', 'Fuel', 'Consumption',\n",
       "       'CO2 Emission', 'Emission Class', '\\nComfort & Convenience\\n',\n",
       "       '\\nEntertainment & Media\\n', '\\nExtras\\n', '\\nSafety & Security\\n',\n",
       "       'description', 'Emission Label', 'Gears', 'Country version',\n",
       "       'Electricity consumption', 'Last Service Date', 'Other Fuel Types',\n",
       "       'Availability', 'Last Timing Belt Service Date', 'Available from'],\n",
       "      dtype='object')"
      ]
     },
     "execution_count": 7,
     "metadata": {},
     "output_type": "execute_result"
    }
   ],
   "source": [
    "df.columns"
   ]
  },
  {
   "cell_type": "code",
   "execution_count": 8,
   "metadata": {},
   "outputs": [
    {
     "name": "stdout",
     "output_type": "stream",
     "text": [
      "url\n",
      "make_model\n",
      "short_description\n",
      "body_type\n",
      "price\n",
      "vat\n",
      "km\n",
      "registration\n",
      "prev_owner\n",
      "kW\n",
      "hp\n",
      "Type\n",
      "Previous Owners\n",
      "Next Inspection\n",
      "Inspection new\n",
      "Warranty\n",
      "Full Service\n",
      "Non-smoking Vehicle\n",
      "null\n",
      "Make\n",
      "Model\n",
      "Offer Number\n",
      "First Registration\n",
      "Body Color\n",
      "Paint Type\n",
      "Body Color Original\n",
      "Upholstery\n",
      "Body\n",
      "Nr. of Doors\n",
      "Nr. of Seats\n",
      "Model Code\n",
      "Gearing Type\n",
      "Displacement\n",
      "Cylinders\n",
      "Weight\n",
      "Drive chain\n",
      "Fuel\n",
      "Consumption\n",
      "CO2 Emission\n",
      "Emission Class\n",
      "\n",
      "Comfort & Convenience\n",
      "\n",
      "\n",
      "Entertainment & Media\n",
      "\n",
      "\n",
      "Extras\n",
      "\n",
      "\n",
      "Safety & Security\n",
      "\n",
      "description\n",
      "Emission Label\n",
      "Gears\n",
      "Country version\n",
      "Electricity consumption\n",
      "Last Service Date\n",
      "Other Fuel Types\n",
      "Availability\n",
      "Last Timing Belt Service Date\n",
      "Available from\n"
     ]
    }
   ],
   "source": [
    "print(*df.columns,sep='\\n')"
   ]
  },
  {
   "cell_type": "code",
   "execution_count": 9,
   "metadata": {},
   "outputs": [
    {
     "data": {
      "text/plain": [
       "url                                  0\n",
       "make_model                           0\n",
       "short_description                   46\n",
       "body_type                           60\n",
       "price                                0\n",
       "vat                               4513\n",
       "km                                   0\n",
       "registration                         0\n",
       "prev_owner                        6828\n",
       "kW                               15919\n",
       "hp                                   0\n",
       "Type                                 2\n",
       "Previous Owners                   6640\n",
       "Next Inspection                  12384\n",
       "Inspection new                   11987\n",
       "Warranty                          5420\n",
       "Full Service                      7704\n",
       "Non-smoking Vehicle               8742\n",
       "null                                 0\n",
       "Make                                 0\n",
       "Model                                0\n",
       "Offer Number                      3175\n",
       "First Registration                1597\n",
       "Body Color                         597\n",
       "Paint Type                        5772\n",
       "Body Color Original               3759\n",
       "Upholstery                        3720\n",
       "Body                                60\n",
       "Nr. of Doors                       212\n",
       "Nr. of Seats                       977\n",
       "Model Code                       10941\n",
       "Gearing Type                         0\n",
       "Displacement                       496\n",
       "Cylinders                         5680\n",
       "Weight                            6974\n",
       "Drive chain                       6858\n",
       "Fuel                                 0\n",
       "Consumption                       1906\n",
       "CO2 Emission                      1808\n",
       "Emission Class                    3021\n",
       "\\nComfort & Convenience\\n          920\n",
       "\\nEntertainment & Media\\n         1374\n",
       "\\nExtras\\n                        2962\n",
       "\\nSafety & Security\\n              982\n",
       "description                          0\n",
       "Emission Label                   11934\n",
       "Gears                             4712\n",
       "Country version                   8333\n",
       "Electricity consumption          15782\n",
       "Last Service Date                15353\n",
       "Other Fuel Types                 15039\n",
       "Availability                     15284\n",
       "Last Timing Belt Service Date    15903\n",
       "Available from                   15647\n",
       "dtype: int64"
      ]
     },
     "execution_count": 9,
     "metadata": {},
     "output_type": "execute_result"
    }
   ],
   "source": [
    "df.isnull().sum()"
   ]
  },
  {
   "cell_type": "markdown",
   "metadata": {},
   "source": [
    "#### Rename and Drop Some Useless Columns"
   ]
  },
  {
   "cell_type": "code",
   "execution_count": 10,
   "metadata": {},
   "outputs": [],
   "source": [
    "df[\"Comfort&Convenience\"] = df[\"\\nComfort & Convenience\\n\"]\n",
    "df[\"Entertainment&Media\"] = df[\"\\nEntertainment & Media\\n\"]\n",
    "df[\"Extras\"] = df[\"\\nExtras\\n\"]\n",
    "df[\"Safety&Security\"] = df[\"\\nSafety & Security\\n\"]"
   ]
  },
  {
   "cell_type": "code",
   "execution_count": 11,
   "metadata": {},
   "outputs": [
    {
     "data": {
      "image/png": "[encoded data removed]",
      "text/plain": [
       "<Figure size 2160x720 with 1 Axes>"
      ]
     },
     "metadata": {
      "needs_background": "light"
     },
     "output_type": "display_data"
    }
   ],
   "source": [
    "plt.figure(figsize=(30,10))\n",
    "sns.heatmap(df.isnull(),yticklabels=False,cbar=False,cmap='viridis');"
   ]
  },
  {
   "cell_type": "markdown",
   "metadata": {},
   "source": [
    "> Drop columns that have %65 precentage and higher of missing values."
   ]
  },
  {
   "cell_type": "code",
   "execution_count": 12,
   "metadata": {},
   "outputs": [],
   "source": [
    "def show_nans(df, limit):\n",
    "    missing = df.isnull().sum()*100/df.shape[0]\n",
    "    return missing.loc[lambda x : x >= limit]\n",
    "\n",
    "def perc_nans(serial):\n",
    "    # display percentage of nans in a Series\n",
    "    return serial.isnull().sum()/serial.shape[0]*100"
   ]
  },
  {
   "cell_type": "code",
   "execution_count": 13,
   "metadata": {},
   "outputs": [
    {
     "data": {
      "text/plain": [
       "kW                               100.000000\n",
       "Next Inspection                   77.793831\n",
       "Inspection new                    75.299956\n",
       "Model Code                        68.729192\n",
       "Emission Label                    74.967021\n",
       "Electricity consumption           99.139393\n",
       "Last Service Date                 96.444500\n",
       "Other Fuel Types                  94.472015\n",
       "Availability                      96.011056\n",
       "Last Timing Belt Service Date     99.899491\n",
       "Available from                    98.291350\n",
       "dtype: float64"
      ]
     },
     "execution_count": 13,
     "metadata": {},
     "output_type": "execute_result"
    }
   ],
   "source": [
    "show_nans(df,65)"
   ]
  },
  {
   "cell_type": "code",
   "execution_count": 14,
   "metadata": {},
   "outputs": [],
   "source": [
    "drop_columns = [\"kW\", # null\n",
    "                \"prev_owner\", # unnecessary\n",
    "                \"Next Inspection\", # null\n",
    "                \"null\", # useless\n",
    "                \"Body\", # unnecessary\n",
    "                \"Full Service\", # useless\n",
    "                \"Non-smoking Vehicle\", # useless\n",
    "                \"Electricity consumption\", # null\n",
    "                \"Last Service Date\", # null\n",
    "                \"Other Fuel Types\", # null\n",
    "                \"Availability\", # null\n",
    "                \"Last Timing Belt Service Date\", # null\n",
    "                \"Available from\", # null\n",
    "                \"\\nComfort & Convenience\\n\", # unnecessary\n",
    "                \"\\nEntertainment & Media\\n\", # unnecessary\n",
    "                \"\\nExtras\\n\",\"\\nSafety & Security\\n\", # unnecessary\n",
    "                \"description\", # complicated data ---------------------->\n",
    "               \"Body Color Original\", # useless\n",
    "                \"Model Code\", # useless\n",
    "                'short_description', # complicated data------------------>\n",
    "                'registration', # unnecessary\n",
    "                'Emission Label', # null\n",
    "                'Country version', # useless\n",
    "                'Offer Number'] # useless\n",
    "df.drop(drop_columns, axis = 1, inplace = True)"
   ]
  },
  {
   "cell_type": "code",
   "execution_count": 15,
   "metadata": {},
   "outputs": [
    {
     "data": {
      "text/plain": [
       "(15919, 33)"
      ]
     },
     "execution_count": 15,
     "metadata": {},
     "output_type": "execute_result"
    }
   ],
   "source": [
    "df.shape"
   ]
  },
  {
   "cell_type": "markdown",
   "metadata": {},
   "source": [
    "## Percentages of Null Data"
   ]
  },
  {
   "cell_type": "code",
   "execution_count": 16,
   "metadata": {},
   "outputs": [
    {
     "data": {
      "text/plain": [
       "url                     0.000000\n",
       "make_model              0.000000\n",
       "body_type               0.376908\n",
       "price                   0.000000\n",
       "vat                    28.349771\n",
       "km                      0.000000\n",
       "hp                      0.000000\n",
       "Type                    0.012564\n",
       "Previous Owners        41.711163\n",
       "Inspection new         75.299956\n",
       "Warranty               34.047365\n",
       "Make                    0.000000\n",
       "Model                   0.000000\n",
       "First Registration     10.032037\n",
       "Body Color              3.750236\n",
       "Paint Type             36.258559\n",
       "Upholstery             23.368302\n",
       "Nr. of Doors            1.331742\n",
       "Nr. of Seats            6.137320\n",
       "Gearing Type            0.000000\n",
       "Displacement            3.115774\n",
       "Cylinders              35.680633\n",
       "Weight                 43.809285\n",
       "Drive chain            43.080596\n",
       "Fuel                    0.000000\n",
       "Consumption            11.973114\n",
       "CO2 Emission           11.357497\n",
       "Emission Class         18.977323\n",
       "Gears                  29.599849\n",
       "Comfort&Convenience     5.779257\n",
       "Entertainment&Media     8.631195\n",
       "Extras                 18.606696\n",
       "Safety&Security         6.168729\n",
       "dtype: float64"
      ]
     },
     "execution_count": 16,
     "metadata": {},
     "output_type": "execute_result"
    }
   ],
   "source": [
    "show_nans(df,0)"
   ]
  },
  {
   "cell_type": "markdown",
   "metadata": {},
   "source": [
    "> At the begining, focus on the columns that have %35 precentage and higher of missing values. "
   ]
  },
  {
   "cell_type": "code",
   "execution_count": 17,
   "metadata": {},
   "outputs": [
    {
     "data": {
      "text/plain": [
       "Previous Owners    41.711163\n",
       "Inspection new     75.299956\n",
       "Paint Type         36.258559\n",
       "Cylinders          35.680633\n",
       "Weight             43.809285\n",
       "Drive chain        43.080596\n",
       "dtype: float64"
      ]
     },
     "execution_count": 17,
     "metadata": {},
     "output_type": "execute_result"
    }
   ],
   "source": [
    "show_nans(df,35)"
   ]
  },
  {
   "cell_type": "markdown",
   "metadata": {},
   "source": [
    "## Rename Columns"
   ]
  },
  {
   "cell_type": "code",
   "execution_count": 18,
   "metadata": {},
   "outputs": [
    {
     "data": {
      "text/plain": [
       "Index(['url', 'make_model', 'body_type', 'price', 'vat', 'km', 'hp', 'Type',\n",
       "       'Previous Owners', 'Inspection new', 'Warranty', 'Make', 'Model',\n",
       "       'First Registration', 'Body Color', 'Paint Type', 'Upholstery',\n",
       "       'Nr. of Doors', 'Nr. of Seats', 'Gearing Type', 'Displacement',\n",
       "       'Cylinders', 'Weight', 'Drive chain', 'Fuel', 'Consumption',\n",
       "       'CO2 Emission', 'Emission Class', 'Gears', 'Comfort&Convenience',\n",
       "       'Entertainment&Media', 'Extras', 'Safety&Security'],\n",
       "      dtype='object')"
      ]
     },
     "execution_count": 18,
     "metadata": {},
     "output_type": "execute_result"
    }
   ],
   "source": [
    "df.columns"
   ]
  },
  {
   "cell_type": "code",
   "execution_count": 19,
   "metadata": {},
   "outputs": [],
   "source": [
    "df.rename(columns={'Previous Owners':'Previous_Owners',\n",
    "                   'Inspection new':'Inspection_New',\n",
    "                   'First Registration':'First_Registration', \n",
    "                   'Body Color':'Body_Color',\n",
    "                   'Paint Type':'Paint_Type',\n",
    "                   'Nr. of Doors':'Nr_of_Doors', \n",
    "                   'Nr. of Seats':'Nr_of_Seats',\n",
    "                   'Gearing Type':'Gearing_Type',\n",
    "                   'Drive chain':'Drive_Chain', \n",
    "                   'CO2 Emission':'CO2_Emission',\n",
    "                   'Emission Class':'Emission_Class',\n",
    "                   'Comfort&Convenience':'Comfort_Convenience',\n",
    "                   'Entertainment&Media':'Entertainment_Media',\n",
    "                   'Safety&Security':'Safety_Security' },inplace=True)"
   ]
  },
  {
   "cell_type": "code",
   "execution_count": 20,
   "metadata": {},
   "outputs": [],
   "source": []
  },
  {
   "cell_type": "markdown",
   "metadata": {},
   "source": [
    "> Open a header for all columns"
   ]
  },
  {
   "cell_type": "markdown",
   "metadata": {},
   "source": [
    "## make_model"
   ]
  },
  {
   "cell_type": "code",
   "execution_count": 21,
   "metadata": {},
   "outputs": [
    {
     "data": {
      "text/plain": [
       "0.0"
      ]
     },
     "execution_count": 21,
     "metadata": {},
     "output_type": "execute_result"
    }
   ],
   "source": [
    "perc_nans(df.make_model)"
   ]
  },
  {
   "cell_type": "code",
   "execution_count": 22,
   "metadata": {},
   "outputs": [
    {
     "data": {
      "text/plain": [
       "Audi A3           3097\n",
       "Audi A1           2614\n",
       "Opel Insignia     2598\n",
       "Opel Astra        2526\n",
       "Opel Corsa        2219\n",
       "Renault Clio      1839\n",
       "Renault Espace     991\n",
       "Renault Duster      34\n",
       "Audi A2              1\n",
       "Name: make_model, dtype: int64"
      ]
     },
     "execution_count": 22,
     "metadata": {},
     "output_type": "execute_result"
    }
   ],
   "source": [
    "df.make_model.value_counts(dropna=False)"
   ]
  },
  {
   "cell_type": "markdown",
   "metadata": {},
   "source": [
    "## body_type"
   ]
  },
  {
   "cell_type": "code",
   "execution_count": 23,
   "metadata": {},
   "outputs": [
    {
     "data": {
      "text/plain": [
       "0.37690809724228913"
      ]
     },
     "execution_count": 23,
     "metadata": {},
     "output_type": "execute_result"
    }
   ],
   "source": [
    "perc_nans(df.body_type)"
   ]
  },
  {
   "cell_type": "code",
   "execution_count": 24,
   "metadata": {},
   "outputs": [
    {
     "data": {
      "text/plain": [
       "Sedans           7903\n",
       "Station wagon    3553\n",
       "Compact          3153\n",
       "Van               783\n",
       "Other             290\n",
       "Transporter        88\n",
       "NaN                60\n",
       "Off-Road           56\n",
       "Coupe              25\n",
       "Convertible         8\n",
       "Name: body_type, dtype: int64"
      ]
     },
     "execution_count": 24,
     "metadata": {},
     "output_type": "execute_result"
    }
   ],
   "source": [
    "df.body_type.value_counts(dropna=False)"
   ]
  },
  {
   "cell_type": "markdown",
   "metadata": {},
   "source": [
    "## price"
   ]
  },
  {
   "cell_type": "code",
   "execution_count": 25,
   "metadata": {},
   "outputs": [
    {
     "data": {
      "text/plain": [
       "0.37690809724228913"
      ]
     },
     "execution_count": 25,
     "metadata": {},
     "output_type": "execute_result"
    }
   ],
   "source": [
    "perc_nans(df.body_type)"
   ]
  },
  {
   "cell_type": "markdown",
   "metadata": {},
   "source": [
    "> Target Column"
   ]
  },
  {
   "cell_type": "markdown",
   "metadata": {},
   "source": [
    "## vat"
   ]
  },
  {
   "cell_type": "code",
   "execution_count": 26,
   "metadata": {},
   "outputs": [
    {
     "data": {
      "text/plain": [
       "28.349770714240847"
      ]
     },
     "execution_count": 26,
     "metadata": {},
     "output_type": "execute_result"
    }
   ],
   "source": [
    "perc_nans(df.vat)"
   ]
  },
  {
   "cell_type": "code",
   "execution_count": 27,
   "metadata": {},
   "outputs": [
    {
     "data": {
      "text/plain": [
       "VAT deductible      10980\n",
       "NaN                  4513\n",
       "Price negotiable      426\n",
       "Name: vat, dtype: int64"
      ]
     },
     "execution_count": 27,
     "metadata": {},
     "output_type": "execute_result"
    }
   ],
   "source": [
    "df.vat.value_counts(dropna=False)"
   ]
  },
  {
   "cell_type": "markdown",
   "metadata": {},
   "source": [
    "## km"
   ]
  },
  {
   "cell_type": "code",
   "execution_count": 28,
   "metadata": {},
   "outputs": [
    {
     "data": {
      "text/plain": [
       "0.0"
      ]
     },
     "execution_count": 28,
     "metadata": {},
     "output_type": "execute_result"
    }
   ],
   "source": [
    "perc_nans(df.km)"
   ]
  },
  {
   "cell_type": "code",
   "execution_count": 29,
   "metadata": {},
   "outputs": [
    {
     "data": {
      "text/plain": [
       "8038       3,024 km\n",
       "7788           5 km\n",
       "11783     21,903 km\n",
       "3729      23,568 km\n",
       "14072        784 km\n",
       "7264      23,195 km\n",
       "13779     13,377 km\n",
       "13837     49,000 km\n",
       "10974    104,915 km\n",
       "15715      8,000 km\n",
       "Name: km, dtype: object"
      ]
     },
     "execution_count": 29,
     "metadata": {},
     "output_type": "execute_result"
    }
   ],
   "source": [
    "df.km.sample(10)"
   ]
  },
  {
   "cell_type": "code",
   "execution_count": 30,
   "metadata": {},
   "outputs": [
    {
     "data": {
      "text/plain": [
       "0        56013\n",
       "1        80000\n",
       "2        83450\n",
       "3        73000\n",
       "4        16200\n",
       "         ...  \n",
       "15914      NaN\n",
       "15915     9900\n",
       "15916       15\n",
       "15917       10\n",
       "15918      NaN\n",
       "Name: 0, Length: 15919, dtype: object"
      ]
     },
     "execution_count": 30,
     "metadata": {},
     "output_type": "execute_result"
    }
   ],
   "source": [
    " df.km.str.replace(',','').str.extract('(\\d{1,8})')[0]"
   ]
  },
  {
   "cell_type": "markdown",
   "metadata": {},
   "source": [
    "    >> dtype is object(string). we have to transform it to float"
   ]
  },
  {
   "cell_type": "code",
   "execution_count": 31,
   "metadata": {},
   "outputs": [],
   "source": [
    "df.km = df.km.str.replace(',','').str.extract('(\\d{1,8})')[0].astype('float')"
   ]
  },
  {
   "cell_type": "code",
   "execution_count": 32,
   "metadata": {},
   "outputs": [
    {
     "data": {
      "text/plain": [
       "0        56013.0\n",
       "1        80000.0\n",
       "2        83450.0\n",
       "3        73000.0\n",
       "4        16200.0\n",
       "          ...   \n",
       "15914        NaN\n",
       "15915     9900.0\n",
       "15916       15.0\n",
       "15917       10.0\n",
       "15918        NaN\n",
       "Name: km, Length: 15919, dtype: float64"
      ]
     },
     "execution_count": 32,
     "metadata": {},
     "output_type": "execute_result"
    }
   ],
   "source": [
    "df.km"
   ]
  },
  {
   "cell_type": "markdown",
   "metadata": {},
   "source": [
    "## Previous_Owners"
   ]
  },
  {
   "cell_type": "code",
   "execution_count": 33,
   "metadata": {},
   "outputs": [
    {
     "data": {
      "text/plain": [
       "41.71116276147999"
      ]
     },
     "execution_count": 33,
     "metadata": {},
     "output_type": "execute_result"
    }
   ],
   "source": [
    "perc_nans(df.Previous_Owners)"
   ]
  },
  {
   "cell_type": "code",
   "execution_count": 34,
   "metadata": {},
   "outputs": [
    {
     "data": {
      "text/plain": [
       "11051      NaN\n",
       "12656      NaN\n",
       "10341    \\n1\\n\n",
       "5666     \\n1\\n\n",
       "10152      NaN\n",
       "10360      NaN\n",
       "10286    \\n1\\n\n",
       "13365      NaN\n",
       "15099    \\n2\\n\n",
       "1088       NaN\n",
       "Name: Previous_Owners, dtype: object"
      ]
     },
     "execution_count": 34,
     "metadata": {},
     "output_type": "execute_result"
    }
   ],
   "source": [
    "df.Previous_Owners.sample(10)"
   ]
  },
  {
   "cell_type": "markdown",
   "metadata": {},
   "source": [
    "    >> some items of this column is list type. use list comprehension, strip and astype  "
   ]
  },
  {
   "cell_type": "code",
   "execution_count": 35,
   "metadata": {},
   "outputs": [],
   "source": [
    "# alternative\n",
    "# df.Previous_Owners = [ i[0] if type(i) == list else i for i in df.Previous_Owners ]\n",
    "\n",
    "df.Previous_Owners= df.Previous_Owners.apply(lambda x : x[0] if type(x)==list else x)\n",
    "df.Previous_Owners = df.Previous_Owners.str.strip(\"\\n\").astype('float')"
   ]
  },
  {
   "cell_type": "code",
   "execution_count": 36,
   "metadata": {},
   "outputs": [
    {
     "data": {
      "text/plain": [
       "1.0    8294\n",
       "NaN    6640\n",
       "2.0     778\n",
       "0.0     188\n",
       "3.0      17\n",
       "4.0       2\n",
       "Name: Previous_Owners, dtype: int64"
      ]
     },
     "execution_count": 36,
     "metadata": {},
     "output_type": "execute_result"
    }
   ],
   "source": [
    "df.Previous_Owners.value_counts(dropna=False)"
   ]
  },
  {
   "cell_type": "markdown",
   "metadata": {},
   "source": [
    "## hp"
   ]
  },
  {
   "cell_type": "code",
   "execution_count": 37,
   "metadata": {},
   "outputs": [
    {
     "data": {
      "text/plain": [
       "0.0"
      ]
     },
     "execution_count": 37,
     "metadata": {},
     "output_type": "execute_result"
    }
   ],
   "source": [
    "perc_nans(df.hp)"
   ]
  },
  {
   "cell_type": "code",
   "execution_count": 38,
   "metadata": {},
   "outputs": [
    {
     "data": {
      "text/plain": [
       "array(['66 kW', '141 kW', '85 kW', '70 kW', '92 kW', '112 kW', '60 kW',\n",
       "       '71 kW', '67 kW', '110 kW', '93 kW', '147 kW', '86 kW', '140 kW',\n",
       "       '87 kW', '- kW', '81 kW', '82 kW', '135 kW', '132 kW', '100 kW',\n",
       "       '96 kW', '162 kW', '150 kW', '294 kW', '228 kW', '270 kW',\n",
       "       '137 kW', '9 kW', '133 kW', '77 kW', '101 kW', '78 kW', '103 kW',\n",
       "       '1 kW', '74 kW', '118 kW', '84 kW', '88 kW', '80 kW', '76 kW',\n",
       "       '149 kW', '44 kW', '51 kW', '55 kW', '52 kW', '63 kW', '40 kW',\n",
       "       '65 kW', '75 kW', '125 kW', '120 kW', '184 kW', '239 kW', '121 kW',\n",
       "       '143 kW', '191 kW', '89 kW', '195 kW', '127 kW', '122 kW',\n",
       "       '154 kW', '155 kW', '104 kW', '123 kW', '146 kW', '90 kW', '53 kW',\n",
       "       '54 kW', '56 kW', '164 kW', '4 kW', '163 kW', '57 kW', '119 kW',\n",
       "       '165 kW', '117 kW', '115 kW', '98 kW', '168 kW', '167 kW'],\n",
       "      dtype=object)"
      ]
     },
     "execution_count": 38,
     "metadata": {},
     "output_type": "execute_result"
    }
   ],
   "source": [
    "df.hp.unique()"
   ]
  },
  {
   "cell_type": "markdown",
   "metadata": {},
   "source": [
    "    >> we take out numerical values via Regex and apply to astype."
   ]
  },
  {
   "cell_type": "code",
   "execution_count": 39,
   "metadata": {},
   "outputs": [],
   "source": [
    "df.hp= df.hp.str.extract('(\\d{1,4})')[0].astype('float')"
   ]
  },
  {
   "cell_type": "code",
   "execution_count": 40,
   "metadata": {},
   "outputs": [
    {
     "data": {
      "text/plain": [
       "0         66.0\n",
       "1        141.0\n",
       "2         85.0\n",
       "3         66.0\n",
       "4         66.0\n",
       "         ...  \n",
       "15914    147.0\n",
       "15915    165.0\n",
       "15916    146.0\n",
       "15917    147.0\n",
       "15918    165.0\n",
       "Name: hp, Length: 15919, dtype: float64"
      ]
     },
     "execution_count": 40,
     "metadata": {},
     "output_type": "execute_result"
    }
   ],
   "source": [
    "df.hp"
   ]
  },
  {
   "cell_type": "markdown",
   "metadata": {},
   "source": [
    "## Type"
   ]
  },
  {
   "cell_type": "code",
   "execution_count": 41,
   "metadata": {},
   "outputs": [
    {
     "data": {
      "text/plain": [
       "0.012563603241409635"
      ]
     },
     "execution_count": 41,
     "metadata": {},
     "output_type": "execute_result"
    }
   ],
   "source": [
    "perc_nans(df.Type)"
   ]
  },
  {
   "cell_type": "code",
   "execution_count": 42,
   "metadata": {},
   "outputs": [
    {
     "data": {
      "text/plain": [
       "4380               [, Used, , Diesel (Particulate Filter)]\n",
       "14888                       [, Pre-registered, , Gasoline]\n",
       "4570     [, Employee's car, , Diesel (Particulate Filter)]\n",
       "13283                                 [, Used, , Super 95]\n",
       "9421             [, Used, , Super 95 / Regular/Benzine 91]\n",
       "10060                                  [, New, , Super 95]\n",
       "5121     [, Pre-registered, , Diesel (Particulate Filter)]\n",
       "565                                     [, Used, , Diesel]\n",
       "15581                                   [, Used, , Diesel]\n",
       "10235                                 [, Used, , Gasoline]\n",
       "Name: Type, dtype: object"
      ]
     },
     "execution_count": 42,
     "metadata": {},
     "output_type": "execute_result"
    }
   ],
   "source": [
    "df.Type.sample(10)"
   ]
  },
  {
   "cell_type": "code",
   "execution_count": 43,
   "metadata": {},
   "outputs": [],
   "source": [
    "df.Type = df.Type.str[1]"
   ]
  },
  {
   "cell_type": "code",
   "execution_count": 44,
   "metadata": {},
   "outputs": [
    {
     "data": {
      "text/plain": [
       "Used              11096\n",
       "New                1650\n",
       "Pre-registered     1364\n",
       "Employee's car     1011\n",
       "Demonstration       796\n",
       "NaN                   2\n",
       "Name: Type, dtype: int64"
      ]
     },
     "execution_count": 44,
     "metadata": {},
     "output_type": "execute_result"
    }
   ],
   "source": [
    "df.Type.value_counts(dropna=False)"
   ]
  },
  {
   "cell_type": "markdown",
   "metadata": {},
   "source": [
    "## Warranty"
   ]
  },
  {
   "cell_type": "code",
   "execution_count": 45,
   "metadata": {},
   "outputs": [
    {
     "data": {
      "text/plain": [
       "5581            [\\n, \\n, \\n106 g CO2/km (comb)\\n]\n",
       "13416                        [\\n, \\n, \\nEuro 6\\n]\n",
       "11763                        [\\n, \\n, \\nEuro 6\\n]\n",
       "7824                                \\n36 months\\n\n",
       "3727                                \\n24 months\\n\n",
       "15746    [\\n60 months\\n, \\n123 g CO2/km (comb)\\n]\n",
       "4675             [\\n, \\n, \\n99 g CO2/km (comb)\\n]\n",
       "1978                                          NaN\n",
       "2663                                          NaN\n",
       "7304            [\\n, \\n, \\n128 g CO2/km (comb)\\n]\n",
       "10312                                          \\n\n",
       "1409                                          NaN\n",
       "15860                                         NaN\n",
       "5202     [\\n12 months\\n, \\n117 g CO2/km (comb)\\n]\n",
       "4854                                \\n24 months\\n\n",
       "658              [\\n, \\n, \\n97 g CO2/km (comb)\\n]\n",
       "942                          [\\n, \\n, \\nEuro 6\\n]\n",
       "211                                           NaN\n",
       "4503                                           \\n\n",
       "14465                               \\n48 months\\n\n",
       "Name: Warranty, dtype: object"
      ]
     },
     "execution_count": 45,
     "metadata": {},
     "output_type": "execute_result"
    }
   ],
   "source": [
    "df.Warranty.sample(20)"
   ]
  },
  {
   "cell_type": "markdown",
   "metadata": {},
   "source": [
    "    >> There are list and unlist items in this column"
   ]
  },
  {
   "cell_type": "code",
   "execution_count": 46,
   "metadata": {},
   "outputs": [],
   "source": [
    "df.Warranty = df.Warranty.apply(lambda x : x[0] if type(x)==list else x)\n",
    "df.Warranty = df.Warranty.str.strip(\"\\n\").str.extract('(\\d{1,2})')[0].astype(\"float\")"
   ]
  },
  {
   "cell_type": "code",
   "execution_count": 47,
   "metadata": {},
   "outputs": [
    {
     "data": {
      "text/plain": [
       "12872    72.0\n",
       "7243      NaN\n",
       "2215      NaN\n",
       "15327     NaN\n",
       "8390      NaN\n",
       "8255      NaN\n",
       "1062     24.0\n",
       "7895     12.0\n",
       "14055     NaN\n",
       "4563      NaN\n",
       "15888     NaN\n",
       "13563    12.0\n",
       "1363      NaN\n",
       "4653     24.0\n",
       "14044     NaN\n",
       "2667      NaN\n",
       "11293     NaN\n",
       "6747      NaN\n",
       "11992     NaN\n",
       "10343     NaN\n",
       "Name: Warranty, dtype: float64"
      ]
     },
     "execution_count": 47,
     "metadata": {},
     "output_type": "execute_result"
    }
   ],
   "source": [
    "df.Warranty.sample(20)"
   ]
  },
  {
   "cell_type": "code",
   "execution_count": 48,
   "metadata": {},
   "outputs": [
    {
     "data": {
      "text/plain": [
       "69.51441673471952"
      ]
     },
     "execution_count": 48,
     "metadata": {},
     "output_type": "execute_result"
    }
   ],
   "source": [
    "perc_nans(df.Warranty)"
   ]
  },
  {
   "cell_type": "markdown",
   "metadata": {},
   "source": [
    "## Inspection_New"
   ]
  },
  {
   "cell_type": "code",
   "execution_count": 49,
   "metadata": {},
   "outputs": [
    {
     "data": {
      "text/plain": [
       "5304     [\\nYes\\n, \\n108 g CO2/km (comb)\\n]\n",
       "1141                                    NaN\n",
       "8327                                    NaN\n",
       "3403                                    NaN\n",
       "320                                     NaN\n",
       "8996                  [\\nYes\\n, \\nEuro 6\\n]\n",
       "5676                                    NaN\n",
       "14995                                   NaN\n",
       "1778     [\\nYes\\n, \\n102 g CO2/km (comb)\\n]\n",
       "8136                                    NaN\n",
       "15134                                   NaN\n",
       "12773                                   NaN\n",
       "8156                                    NaN\n",
       "2818                                    NaN\n",
       "14356                                   NaN\n",
       "4036                                    NaN\n",
       "13511                                   NaN\n",
       "6286                                    NaN\n",
       "4555                                    NaN\n",
       "10122                                   NaN\n",
       "Name: Inspection_New, dtype: object"
      ]
     },
     "execution_count": 49,
     "metadata": {},
     "output_type": "execute_result"
    }
   ],
   "source": [
    "df.Inspection_New.sample(20)"
   ]
  },
  {
   "cell_type": "code",
   "execution_count": 50,
   "metadata": {},
   "outputs": [],
   "source": [
    "df.Inspection_New = df.Inspection_New.apply(lambda x : x[0] if type(x)==list else x)\n",
    "df.Inspection_New = df.Inspection_New.str.strip(\"\\n\")"
   ]
  },
  {
   "cell_type": "code",
   "execution_count": 51,
   "metadata": {},
   "outputs": [
    {
     "data": {
      "text/plain": [
       "75.29995602738866"
      ]
     },
     "execution_count": 51,
     "metadata": {},
     "output_type": "execute_result"
    }
   ],
   "source": [
    "perc_nans(df.Inspection_New)"
   ]
  },
  {
   "cell_type": "markdown",
   "metadata": {},
   "source": [
    "## Make"
   ]
  },
  {
   "cell_type": "code",
   "execution_count": 52,
   "metadata": {},
   "outputs": [
    {
     "data": {
      "text/plain": [
       "10749       \\nOpel\\n\n",
       "11931       \\nOpel\\n\n",
       "8865        \\nOpel\\n\n",
       "1995        \\nAudi\\n\n",
       "4941        \\nAudi\\n\n",
       "1714        \\nAudi\\n\n",
       "4285        \\nAudi\\n\n",
       "2840        \\nAudi\\n\n",
       "14577    \\nRenault\\n\n",
       "3885        \\nAudi\\n\n",
       "7884        \\nOpel\\n\n",
       "3607        \\nAudi\\n\n",
       "9717        \\nOpel\\n\n",
       "11499       \\nOpel\\n\n",
       "3900        \\nAudi\\n\n",
       "12408       \\nOpel\\n\n",
       "15757    \\nRenault\\n\n",
       "13667    \\nRenault\\n\n",
       "967         \\nAudi\\n\n",
       "7196        \\nOpel\\n\n",
       "Name: Make, dtype: object"
      ]
     },
     "execution_count": 52,
     "metadata": {},
     "output_type": "execute_result"
    }
   ],
   "source": [
    "df.Make.sample(20)"
   ]
  },
  {
   "cell_type": "code",
   "execution_count": 53,
   "metadata": {},
   "outputs": [],
   "source": [
    "df.Make= df.Make.str.strip('\\n')"
   ]
  },
  {
   "cell_type": "code",
   "execution_count": 54,
   "metadata": {},
   "outputs": [
    {
     "data": {
      "text/plain": [
       "Opel       7343\n",
       "Audi       5712\n",
       "Renault    2864\n",
       "Name: Make, dtype: int64"
      ]
     },
     "execution_count": 54,
     "metadata": {},
     "output_type": "execute_result"
    }
   ],
   "source": [
    "df.Make.value_counts(dropna=False)"
   ]
  },
  {
   "cell_type": "markdown",
   "metadata": {},
   "source": [
    "## Model"
   ]
  },
  {
   "cell_type": "code",
   "execution_count": 55,
   "metadata": {},
   "outputs": [
    {
     "data": {
      "text/plain": [
       "9622        [\\n, Corsa, \\n]\n",
       "5943        [\\n, Astra, \\n]\n",
       "8444        [\\n, Corsa, \\n]\n",
       "14870        [\\n, Clio, \\n]\n",
       "12907    [\\n, Insignia, \\n]\n",
       "6459        [\\n, Astra, \\n]\n",
       "9062        [\\n, Corsa, \\n]\n",
       "11479    [\\n, Insignia, \\n]\n",
       "3669           [\\n, A3, \\n]\n",
       "3545           [\\n, A3, \\n]\n",
       "9610        [\\n, Corsa, \\n]\n",
       "15665      [\\n, Espace, \\n]\n",
       "15839      [\\n, Espace, \\n]\n",
       "13637        [\\n, Clio, \\n]\n",
       "11599    [\\n, Insignia, \\n]\n",
       "940            [\\n, A1, \\n]\n",
       "1211           [\\n, A1, \\n]\n",
       "913            [\\n, A1, \\n]\n",
       "1687           [\\n, A1, \\n]\n",
       "10742    [\\n, Insignia, \\n]\n",
       "Name: Model, dtype: object"
      ]
     },
     "execution_count": 55,
     "metadata": {},
     "output_type": "execute_result"
    }
   ],
   "source": [
    "df.Model.sample(20)"
   ]
  },
  {
   "cell_type": "code",
   "execution_count": 56,
   "metadata": {},
   "outputs": [],
   "source": [
    "df.Modal = df.Model.str[1]"
   ]
  },
  {
   "cell_type": "code",
   "execution_count": 57,
   "metadata": {},
   "outputs": [
    {
     "data": {
      "text/plain": [
       "A3          3097\n",
       "A1          2614\n",
       "Insignia    2598\n",
       "Astra       2526\n",
       "Corsa       2219\n",
       "Clio        1839\n",
       "Espace       991\n",
       "Duster        34\n",
       "A2             1\n",
       "Name: Model, dtype: int64"
      ]
     },
     "execution_count": 57,
     "metadata": {},
     "output_type": "execute_result"
    }
   ],
   "source": [
    "df.Modal.value_counts(dropna=False)"
   ]
  },
  {
   "cell_type": "markdown",
   "metadata": {},
   "source": [
    "## First_Registration"
   ]
  },
  {
   "cell_type": "code",
   "execution_count": 58,
   "metadata": {},
   "outputs": [
    {
     "data": {
      "text/plain": [
       "13589    [\\n, 2016, \\n]\n",
       "303      [\\n, 2016, \\n]\n",
       "6934     [\\n, 2017, \\n]\n",
       "1486     [\\n, 2018, \\n]\n",
       "7630     [\\n, 2019, \\n]\n",
       "1867     [\\n, 2018, \\n]\n",
       "15158    [\\n, 2017, \\n]\n",
       "12257    [\\n, 2018, \\n]\n",
       "6976     [\\n, 2017, \\n]\n",
       "8028                NaN\n",
       "12513    [\\n, 2019, \\n]\n",
       "7280     [\\n, 2018, \\n]\n",
       "2237                NaN\n",
       "2026     [\\n, 2019, \\n]\n",
       "2066     [\\n, 2019, \\n]\n",
       "5066                NaN\n",
       "12282    [\\n, 2018, \\n]\n",
       "10402    [\\n, 2019, \\n]\n",
       "13968    [\\n, 2017, \\n]\n",
       "13955    [\\n, 2019, \\n]\n",
       "Name: First_Registration, dtype: object"
      ]
     },
     "execution_count": 58,
     "metadata": {},
     "output_type": "execute_result"
    }
   ],
   "source": [
    "df.First_Registration.sample(20)"
   ]
  },
  {
   "cell_type": "code",
   "execution_count": 59,
   "metadata": {},
   "outputs": [],
   "source": [
    "df.First_Registration = df.First_Registration.str[1].astype('float')"
   ]
  },
  {
   "cell_type": "code",
   "execution_count": 60,
   "metadata": {},
   "outputs": [],
   "source": [
    "df['Age']= 2019 - df.First_Registration"
   ]
  },
  {
   "cell_type": "code",
   "execution_count": 61,
   "metadata": {},
   "outputs": [],
   "source": [
    "df.drop(\"First_Registration\", axis=1, inplace=True)"
   ]
  },
  {
   "cell_type": "code",
   "execution_count": 62,
   "metadata": {},
   "outputs": [
    {
     "data": {
      "text/plain": [
       "1.0    4522\n",
       "3.0    3674\n",
       "2.0    3273\n",
       "0.0    2853\n",
       "NaN    1597\n",
       "Name: Age, dtype: int64"
      ]
     },
     "execution_count": 62,
     "metadata": {},
     "output_type": "execute_result"
    }
   ],
   "source": [
    "df.Age.value_counts(dropna=False)"
   ]
  },
  {
   "cell_type": "code",
   "execution_count": 63,
   "metadata": {},
   "outputs": [
    {
     "data": {
      "text/plain": [
       "Index(['url', 'make_model', 'body_type', 'price', 'vat', 'km', 'hp', 'Type',\n",
       "       'Previous_Owners', 'Inspection_New', 'Warranty', 'Make', 'Model',\n",
       "       'Body_Color', 'Paint_Type', 'Upholstery', 'Nr_of_Doors', 'Nr_of_Seats',\n",
       "       'Gearing_Type', 'Displacement', 'Cylinders', 'Weight', 'Drive_Chain',\n",
       "       'Fuel', 'Consumption', 'CO2_Emission', 'Emission_Class', 'Gears',\n",
       "       'Comfort_Convenience', 'Entertainment_Media', 'Extras',\n",
       "       'Safety_Security', 'Age'],\n",
       "      dtype='object')"
      ]
     },
     "execution_count": 63,
     "metadata": {},
     "output_type": "execute_result"
    }
   ],
   "source": [
    "df.columns"
   ]
  },
  {
   "cell_type": "markdown",
   "metadata": {},
   "source": [
    "## Body_Color"
   ]
  },
  {
   "cell_type": "code",
   "execution_count": 64,
   "metadata": {},
   "outputs": [
    {
     "data": {
      "text/plain": [
       "0        [\\n, Black, \\n]\n",
       "1          [\\n, Red, \\n]\n",
       "2        [\\n, Black, \\n]\n",
       "3        [\\n, Brown, \\n]\n",
       "4        [\\n, Black, \\n]\n",
       "              ...       \n",
       "15914     [\\n, Grey, \\n]\n",
       "15915     [\\n, Grey, \\n]\n",
       "15916    [\\n, White, \\n]\n",
       "15917     [\\n, Grey, \\n]\n",
       "15918     [\\n, Grey, \\n]\n",
       "Name: Body_Color, Length: 15919, dtype: object"
      ]
     },
     "execution_count": 64,
     "metadata": {},
     "output_type": "execute_result"
    }
   ],
   "source": [
    "df.Body_Color"
   ]
  },
  {
   "cell_type": "code",
   "execution_count": 65,
   "metadata": {},
   "outputs": [],
   "source": [
    "df.Body_Color= df.Body_Color.str[1]"
   ]
  },
  {
   "cell_type": "code",
   "execution_count": 66,
   "metadata": {},
   "outputs": [
    {
     "data": {
      "text/plain": [
       "Black     3745\n",
       "Grey      3505\n",
       "White     3406\n",
       "Silver    1647\n",
       "Blue      1431\n",
       "Red        957\n",
       "NaN        597\n",
       "Brown      289\n",
       "Green      154\n",
       "Beige      108\n",
       "Yellow      51\n",
       "Violet      18\n",
       "Bronze       6\n",
       "Orange       3\n",
       "Gold         2\n",
       "Name: Body_Color, dtype: int64"
      ]
     },
     "execution_count": 66,
     "metadata": {},
     "output_type": "execute_result"
    }
   ],
   "source": [
    "df.Body_Color.value_counts(dropna=False)"
   ]
  },
  {
   "cell_type": "markdown",
   "metadata": {},
   "source": [
    "## Paint_Type"
   ]
  },
  {
   "cell_type": "code",
   "execution_count": 67,
   "metadata": {},
   "outputs": [],
   "source": [
    "df.Paint_Type = df.Paint_Type.str[0].str.strip('\\n')"
   ]
  },
  {
   "cell_type": "code",
   "execution_count": 68,
   "metadata": {},
   "outputs": [
    {
     "data": {
      "text/plain": [
       "Metallic       9794\n",
       "NaN            5772\n",
       "Uni/basic       347\n",
       "Perl effect       6\n",
       "Name: Paint_Type, dtype: int64"
      ]
     },
     "execution_count": 68,
     "metadata": {},
     "output_type": "execute_result"
    }
   ],
   "source": [
    "df.Paint_Type.value_counts(dropna=False)"
   ]
  },
  {
   "cell_type": "markdown",
   "metadata": {},
   "source": [
    "## Upholstery"
   ]
  },
  {
   "cell_type": "code",
   "execution_count": 69,
   "metadata": {},
   "outputs": [
    {
     "data": {
      "text/plain": [
       "7440      [\\nCloth, Grey\\n]\n",
       "9569                    NaN\n",
       "6386     [\\nCloth, Black\\n]\n",
       "14657    [\\nCloth, Black\\n]\n",
       "4410                    NaN\n",
       "14825    [\\nCloth, Black\\n]\n",
       "8720     [\\nCloth, Black\\n]\n",
       "13952                   NaN\n",
       "172      [\\nOther, Black\\n]\n",
       "14829    [\\nCloth, Black\\n]\n",
       "Name: Upholstery, dtype: object"
      ]
     },
     "execution_count": 69,
     "metadata": {},
     "output_type": "execute_result"
    }
   ],
   "source": [
    "df.Upholstery.sample(10)"
   ]
  },
  {
   "cell_type": "code",
   "execution_count": 70,
   "metadata": {},
   "outputs": [],
   "source": [
    "df.Upholstery = df.Upholstery.apply(lambda x : x[0] if type(x)==list else x)"
   ]
  },
  {
   "cell_type": "code",
   "execution_count": 71,
   "metadata": {},
   "outputs": [
    {
     "data": {
      "text/plain": [
       "3318         \\nFull leather\\n\n",
       "12069        \\nCloth, Black\\n\n",
       "10420                     NaN\n",
       "7721                \\nBlack\\n\n",
       "6667                      NaN\n",
       "13766        \\nCloth, Black\\n\n",
       "12775    \\nalcantara, Black\\n\n",
       "10330        \\nCloth, Black\\n\n",
       "3306                      NaN\n",
       "10174        \\nCloth, Black\\n\n",
       "Name: Upholstery, dtype: object"
      ]
     },
     "execution_count": 71,
     "metadata": {},
     "output_type": "execute_result"
    }
   ],
   "source": [
    "df.Upholstery.sample(10)"
   ]
  },
  {
   "cell_type": "code",
   "execution_count": 72,
   "metadata": {},
   "outputs": [],
   "source": [
    "df.Upholstery = df.Upholstery.str.strip(\"\\n\").str.split(\", \")"
   ]
  },
  {
   "cell_type": "code",
   "execution_count": 73,
   "metadata": {},
   "outputs": [
    {
     "data": {
      "text/plain": [
       "6847                       NaN\n",
       "5194            [Cloth, Other]\n",
       "15756    [Part leather, Brown]\n",
       "12991           [Cloth, Other]\n",
       "5555                   [Cloth]\n",
       "3631                       NaN\n",
       "11421                  [Black]\n",
       "838                        NaN\n",
       "13626                  [Black]\n",
       "3365            [Cloth, Black]\n",
       "Name: Upholstery, dtype: object"
      ]
     },
     "execution_count": 73,
     "metadata": {},
     "output_type": "execute_result"
    }
   ],
   "source": [
    "df.Upholstery.sample(10)"
   ]
  },
  {
   "cell_type": "code",
   "execution_count": 74,
   "metadata": {},
   "outputs": [
    {
     "ename": "TypeError",
     "evalue": "unhashable type: 'list'",
     "output_type": "error",
     "traceback": [
      "\u001b[1;31m---------------------------------------------------------------------------\u001b[0m",
      "\u001b[1;31mTypeError\u001b[0m                                 Traceback (most recent call last)",
      "\u001b[1;32mpandas\\_libs\\hashtable_class_helper.pxi\u001b[0m in \u001b[0;36mpandas._libs.hashtable.PyObjectHashTable.map_locations\u001b[1;34m()\u001b[0m\n",
      "\u001b[1;31mTypeError\u001b[0m: unhashable type: 'list'"
     ]
    },
    {
     "name": "stderr",
     "output_type": "stream",
     "text": [
      "Exception ignored in: 'pandas._libs.index.IndexEngine._call_map_locations'\n",
      "Traceback (most recent call last):\n",
      "  File \"pandas\\_libs\\hashtable_class_helper.pxi\", line 1709, in pandas._libs.hashtable.PyObjectHashTable.map_locations\n",
      "TypeError: unhashable type: 'list'\n"
     ]
    },
    {
     "data": {
      "text/plain": [
       "[Cloth, Black]           5821\n",
       "NaN                      3720\n",
       "[Part leather, Black]    1121\n",
       "[Cloth]                  1005\n",
       "[Cloth, Grey]             891\n",
       "[Cloth, Other]            639\n",
       "[Full leather, Black]     575\n",
       "[Black]                   491\n",
       "[Grey]                    273\n",
       "[Other, Other]            182\n",
       "[Part leather]            140\n",
       "[Full leather]            139\n",
       "[Full leather, Brown]     116\n",
       "[Part leather, Grey]      116\n",
       "[Other, Black]            110\n",
       "[Full leather, Other]      72\n",
       "[Full leather, Grey]       67\n",
       "[Part leather, Other]      65\n",
       "[Other]                    56\n",
       "[Part leather, Brown]      50\n",
       "[alcantara, Black]         47\n",
       "[Velour, Black]            36\n",
       "[Full leather, Beige]      36\n",
       "[Cloth, Brown]             28\n",
       "[Velour]                   16\n",
       "[Other, Grey]              15\n",
       "[Cloth, Beige]             13\n",
       "[Cloth, Blue]              12\n",
       "[Brown]                    12\n",
       "[Velour, Grey]              8\n",
       "[Cloth, White]              8\n",
       "[alcantara, Grey]           6\n",
       "[Cloth, Red]                5\n",
       "[Other, Yellow]             4\n",
       "[Beige]                     3\n",
       "[Part leather, Red]         3\n",
       "[Part leather, Beige]       2\n",
       "[Full leather, Blue]        2\n",
       "[alcantara]                 2\n",
       "[White]                     2\n",
       "[Part leather, White]       2\n",
       "[alcantara, Other]          2\n",
       "[Blue]                      2\n",
       "[Other, Brown]              1\n",
       "[Full leather, Red]         1\n",
       "[Full leather, White]       1\n",
       "[Cloth, Orange]             1\n",
       "Name: Upholstery, dtype: int64"
      ]
     },
     "execution_count": 74,
     "metadata": {},
     "output_type": "execute_result"
    }
   ],
   "source": [
    "df.Upholstery.value_counts(dropna=False)"
   ]
  },
  {
   "cell_type": "markdown",
   "metadata": {},
   "source": [
    "    >> It has 2 types of infos. kind and color. we will create 2 new columns for these.\n",
    "\n",
    "    >> We divide it into 5 categories to find out what kind of material it is made of."
   ]
  },
  {
   "cell_type": "code",
   "execution_count": 75,
   "metadata": {},
   "outputs": [],
   "source": [
    "types = [\"Cloth\",'Part leather', 'Full leather','Velour', 'alcantara']\n",
    "df['Upholstery_Type'] = df.Upholstery.apply(lambda x : x[0] if type(x) == list and x[0] in types else np.nan)"
   ]
  },
  {
   "cell_type": "code",
   "execution_count": 76,
   "metadata": {},
   "outputs": [
    {
     "data": {
      "text/plain": [
       "Cloth           8423\n",
       "NaN             4871\n",
       "Part leather    1499\n",
       "Full leather    1009\n",
       "Velour            60\n",
       "alcantara         57\n",
       "Name: Upholstery_Type, dtype: int64"
      ]
     },
     "execution_count": 76,
     "metadata": {},
     "output_type": "execute_result"
    }
   ],
   "source": [
    "df.Upholstery_Type.value_counts(dropna=False)"
   ]
  },
  {
   "cell_type": "markdown",
   "metadata": {},
   "source": [
    "    >> We divide it into 9 categories to find out what colour Upholstery has."
   ]
  },
  {
   "cell_type": "code",
   "execution_count": 77,
   "metadata": {},
   "outputs": [],
   "source": [
    "colors = ['Black', 'Grey', 'Brown', 'Beige', 'White', 'Blue', 'Red', 'Yellow', 'Orange']\n",
    "\n",
    "def finder(x):\n",
    "    if type(x) == list and len(x) == 2:\n",
    "        return x[1]\n",
    "    elif type(x) == list and x[0] in colors:\n",
    "        return x[0]\n",
    "    else:\n",
    "        return np.nan\n",
    "    \n",
    "df['Upholstery_Color']= df.Upholstery.apply(finder)"
   ]
  },
  {
   "cell_type": "code",
   "execution_count": 78,
   "metadata": {},
   "outputs": [
    {
     "data": {
      "text/plain": [
       "Black     8201\n",
       "NaN       5078\n",
       "Grey      1376\n",
       "Other      960\n",
       "Brown      207\n",
       "Beige       54\n",
       "Blue        16\n",
       "White       13\n",
       "Red          9\n",
       "Yellow       4\n",
       "Orange       1\n",
       "Name: Upholstery_Color, dtype: int64"
      ]
     },
     "execution_count": 78,
     "metadata": {},
     "output_type": "execute_result"
    }
   ],
   "source": [
    "df.Upholstery_Color.value_counts(dropna=False)"
   ]
  },
  {
   "cell_type": "code",
   "execution_count": 79,
   "metadata": {},
   "outputs": [],
   "source": [
    "df.drop(\"Upholstery\", axis=1, inplace=True)"
   ]
  },
  {
   "cell_type": "markdown",
   "metadata": {},
   "source": [
    "## Nr_of_Doors"
   ]
  },
  {
   "cell_type": "code",
   "execution_count": 80,
   "metadata": {},
   "outputs": [
    {
     "data": {
      "text/plain": [
       "3391     [\\n5\\n]\n",
       "7059     [\\n5\\n]\n",
       "13084    [\\n5\\n]\n",
       "12311    [\\n4\\n]\n",
       "7223     [\\n5\\n]\n",
       "1219     [\\n5\\n]\n",
       "12035    [\\n5\\n]\n",
       "15726    [\\n5\\n]\n",
       "13421    [\\n5\\n]\n",
       "7147     [\\n5\\n]\n",
       "Name: Nr_of_Doors, dtype: object"
      ]
     },
     "execution_count": 80,
     "metadata": {},
     "output_type": "execute_result"
    }
   ],
   "source": [
    " df.Nr_of_Doors.sample(10)"
   ]
  },
  {
   "cell_type": "code",
   "execution_count": 81,
   "metadata": {},
   "outputs": [],
   "source": [
    "df.Nr_of_Doors = df.Nr_of_Doors.str[0].str.strip('\\n').astype('float')"
   ]
  },
  {
   "cell_type": "code",
   "execution_count": 82,
   "metadata": {},
   "outputs": [
    {
     "data": {
      "text/plain": [
       "5.0    11575\n",
       "4.0     3079\n",
       "3.0      832\n",
       "2.0      219\n",
       "NaN      212\n",
       "7.0        1\n",
       "1.0        1\n",
       "Name: Nr_of_Doors, dtype: int64"
      ]
     },
     "execution_count": 82,
     "metadata": {},
     "output_type": "execute_result"
    }
   ],
   "source": [
    "df.Nr_of_Doors.value_counts(dropna=False)"
   ]
  },
  {
   "cell_type": "markdown",
   "metadata": {},
   "source": [
    "## Nr_of_Seats"
   ]
  },
  {
   "cell_type": "code",
   "execution_count": 83,
   "metadata": {},
   "outputs": [
    {
     "data": {
      "text/plain": [
       "10368    [\\n5\\n]\n",
       "5854     [\\n5\\n]\n",
       "8057     [\\n5\\n]\n",
       "7219     [\\n5\\n]\n",
       "6692     [\\n5\\n]\n",
       "6989     [\\n5\\n]\n",
       "8402     [\\n5\\n]\n",
       "15208    [\\n5\\n]\n",
       "10952    [\\n5\\n]\n",
       "13440    [\\n5\\n]\n",
       "Name: Nr_of_Seats, dtype: object"
      ]
     },
     "execution_count": 83,
     "metadata": {},
     "output_type": "execute_result"
    }
   ],
   "source": [
    "df.Nr_of_Seats.sample(10)"
   ]
  },
  {
   "cell_type": "code",
   "execution_count": 84,
   "metadata": {},
   "outputs": [],
   "source": [
    "df.Nr_of_Seats = df.Nr_of_Seats.str[0].str.strip('\\n').astype('float')"
   ]
  },
  {
   "cell_type": "code",
   "execution_count": 85,
   "metadata": {},
   "outputs": [
    {
     "data": {
      "text/plain": [
       "5.0    13336\n",
       "4.0     1125\n",
       "NaN      977\n",
       "7.0      362\n",
       "2.0      116\n",
       "6.0        2\n",
       "3.0        1\n",
       "Name: Nr_of_Seats, dtype: int64"
      ]
     },
     "execution_count": 85,
     "metadata": {},
     "output_type": "execute_result"
    }
   ],
   "source": [
    "df.Nr_of_Seats.value_counts(dropna=False)"
   ]
  },
  {
   "cell_type": "markdown",
   "metadata": {},
   "source": [
    "## Gearing Type"
   ]
  },
  {
   "cell_type": "code",
   "execution_count": 86,
   "metadata": {},
   "outputs": [
    {
     "data": {
      "text/plain": [
       "7287             [\\n, Manual, \\n]\n",
       "9224             [\\n, Manual, \\n]\n",
       "7494             [\\n, Manual, \\n]\n",
       "8544          [\\n, Automatic, \\n]\n",
       "12542         [\\n, Automatic, \\n]\n",
       "497              [\\n, Manual, \\n]\n",
       "13830    [\\n, Semi-automatic, \\n]\n",
       "1948          [\\n, Automatic, \\n]\n",
       "3179             [\\n, Manual, \\n]\n",
       "7839          [\\n, Automatic, \\n]\n",
       "Name: Gearing_Type, dtype: object"
      ]
     },
     "execution_count": 86,
     "metadata": {},
     "output_type": "execute_result"
    }
   ],
   "source": [
    "df.Gearing_Type.sample(10)"
   ]
  },
  {
   "cell_type": "code",
   "execution_count": 87,
   "metadata": {},
   "outputs": [],
   "source": [
    "df.Gearing_Type = df.Gearing_Type.str[1]"
   ]
  },
  {
   "cell_type": "code",
   "execution_count": 88,
   "metadata": {},
   "outputs": [
    {
     "data": {
      "text/plain": [
       "Manual            8153\n",
       "Automatic         7297\n",
       "Semi-automatic     469\n",
       "Name: Gearing_Type, dtype: int64"
      ]
     },
     "execution_count": 88,
     "metadata": {},
     "output_type": "execute_result"
    }
   ],
   "source": [
    "df.Gearing_Type.value_counts(dropna=False)"
   ]
  },
  {
   "cell_type": "markdown",
   "metadata": {},
   "source": [
    "## Displacement"
   ]
  },
  {
   "cell_type": "markdown",
   "metadata": {},
   "source": [
    "    >> Engine displacement is the measure of the cylinder volume."
   ]
  },
  {
   "cell_type": "code",
   "execution_count": 89,
   "metadata": {},
   "outputs": [
    {
     "data": {
      "text/plain": [
       "15276    [\\n1,598 cc\\n]\n",
       "3658     [\\n1,598 cc\\n]\n",
       "11150    [\\n1,598 cc\\n]\n",
       "14419    [\\n1,618 cc\\n]\n",
       "13109    [\\n1,197 cc\\n]\n",
       "15322    [\\n1,598 cc\\n]\n",
       "9870     [\\n1,398 cc\\n]\n",
       "2792     [\\n1,598 cc\\n]\n",
       "4272     [\\n1,968 cc\\n]\n",
       "3454     [\\n1,598 cc\\n]\n",
       "Name: Displacement, dtype: object"
      ]
     },
     "execution_count": 89,
     "metadata": {},
     "output_type": "execute_result"
    }
   ],
   "source": [
    "df.Displacement.sample(10)"
   ]
  },
  {
   "cell_type": "code",
   "execution_count": 90,
   "metadata": {},
   "outputs": [],
   "source": [
    "df.Displacement = df.Displacement.str[0].str.strip('\\n').str.replace(',','').str.extract('(\\d{1,5})')[0].astype(\"float\")"
   ]
  },
  {
   "cell_type": "markdown",
   "metadata": {},
   "source": [
    "## Cylinders"
   ]
  },
  {
   "cell_type": "code",
   "execution_count": 91,
   "metadata": {},
   "outputs": [
    {
     "data": {
      "text/plain": [
       "12377        NaN\n",
       "5116     [\\n4\\n]\n",
       "926      [\\n3\\n]\n",
       "4645         NaN\n",
       "2339         NaN\n",
       "12428        NaN\n",
       "15332    [\\n4\\n]\n",
       "13472        NaN\n",
       "1827     [\\n3\\n]\n",
       "11815        NaN\n",
       "Name: Cylinders, dtype: object"
      ]
     },
     "execution_count": 91,
     "metadata": {},
     "output_type": "execute_result"
    }
   ],
   "source": [
    "df.Cylinders.sample(10)"
   ]
  },
  {
   "cell_type": "code",
   "execution_count": 92,
   "metadata": {},
   "outputs": [],
   "source": [
    "df.Cylinders= df.Cylinders.str[0].str.strip('\\n').astype(\"float\")"
   ]
  },
  {
   "cell_type": "code",
   "execution_count": 93,
   "metadata": {},
   "outputs": [
    {
     "data": {
      "text/plain": [
       "4.0    8105\n",
       "NaN    5680\n",
       "3.0    2104\n",
       "5.0      22\n",
       "6.0       3\n",
       "2.0       2\n",
       "8.0       2\n",
       "1.0       1\n",
       "Name: Cylinders, dtype: int64"
      ]
     },
     "execution_count": 93,
     "metadata": {},
     "output_type": "execute_result"
    }
   ],
   "source": [
    "df.Cylinders.value_counts(dropna=False)"
   ]
  },
  {
   "cell_type": "markdown",
   "metadata": {},
   "source": [
    "## Weight"
   ]
  },
  {
   "cell_type": "code",
   "execution_count": 94,
   "metadata": {},
   "outputs": [
    {
     "data": {
      "text/plain": [
       "6863                NaN\n",
       "7950                NaN\n",
       "772      [\\n1,275 kg\\n]\n",
       "15258    [\\n1,734 kg\\n]\n",
       "12739    [\\n1,503 kg\\n]\n",
       "7894                NaN\n",
       "3155     [\\n1,865 kg\\n]\n",
       "4977     [\\n1,335 kg\\n]\n",
       "3196                NaN\n",
       "3706                NaN\n",
       "Name: Weight, dtype: object"
      ]
     },
     "execution_count": 94,
     "metadata": {},
     "output_type": "execute_result"
    }
   ],
   "source": [
    "df.Weight.sample(10)"
   ]
  },
  {
   "cell_type": "code",
   "execution_count": 95,
   "metadata": {},
   "outputs": [],
   "source": [
    "df.Weight= df.Weight.str[0].str.strip('\\n').str.replace(',','').str.extract('(\\d{1,6})')[0].astype('float')"
   ]
  },
  {
   "cell_type": "code",
   "execution_count": 96,
   "metadata": {},
   "outputs": [
    {
     "data": {
      "text/plain": [
       "NaN       6974\n",
       "1163.0     574\n",
       "1360.0     356\n",
       "1165.0     301\n",
       "1335.0     242\n",
       "          ... \n",
       "900.0        1\n",
       "1650.0       1\n",
       "1428.0       1\n",
       "2355.0       1\n",
       "1523.0       1\n",
       "Name: Weight, Length: 435, dtype: int64"
      ]
     },
     "execution_count": 96,
     "metadata": {},
     "output_type": "execute_result"
    }
   ],
   "source": [
    "df.Weight.value_counts(dropna=False)"
   ]
  },
  {
   "cell_type": "markdown",
   "metadata": {},
   "source": [
    "## Drive_Chain"
   ]
  },
  {
   "cell_type": "code",
   "execution_count": 97,
   "metadata": {},
   "outputs": [
    {
     "data": {
      "text/plain": [
       "12741    [\\nfront\\n]\n",
       "14527    [\\nfront\\n]\n",
       "13860    [\\nfront\\n]\n",
       "2661     [\\nfront\\n]\n",
       "3270     [\\nfront\\n]\n",
       "7198             NaN\n",
       "4493     [\\nfront\\n]\n",
       "15615    [\\nfront\\n]\n",
       "12726            NaN\n",
       "6011     [\\nfront\\n]\n",
       "Name: Drive_Chain, dtype: object"
      ]
     },
     "execution_count": 97,
     "metadata": {},
     "output_type": "execute_result"
    }
   ],
   "source": [
    "df.Drive_Chain.sample(10)"
   ]
  },
  {
   "cell_type": "code",
   "execution_count": 98,
   "metadata": {},
   "outputs": [],
   "source": [
    "df.Drive_Chain= df.Drive_Chain.str[0].str.strip('\\n')"
   ]
  },
  {
   "cell_type": "code",
   "execution_count": 99,
   "metadata": {},
   "outputs": [
    {
     "data": {
      "text/plain": [
       "front    8886\n",
       "NaN      6858\n",
       "4WD       171\n",
       "rear        4\n",
       "Name: Drive_Chain, dtype: int64"
      ]
     },
     "execution_count": 99,
     "metadata": {},
     "output_type": "execute_result"
    }
   ],
   "source": [
    "df.Drive_Chain.value_counts(dropna=False)"
   ]
  },
  {
   "cell_type": "markdown",
   "metadata": {},
   "source": [
    "## Fuel"
   ]
  },
  {
   "cell_type": "code",
   "execution_count": 100,
   "metadata": {},
   "outputs": [
    {
     "data": {
      "text/plain": [
       "1575                        [\\n, Gasoline, \\n]\n",
       "2071                        [\\n, Gasoline, \\n]\n",
       "5963                          [\\n, Diesel, \\n]\n",
       "15519                         [\\n, Diesel, \\n]\n",
       "2179                        [\\n, Gasoline, \\n]\n",
       "10467    [\\n, Diesel (Particulate Filter), \\n]\n",
       "3465     [\\n, Diesel (Particulate Filter), \\n]\n",
       "13495                         [\\n, Diesel, \\n]\n",
       "5997                        [\\n, Super 95, \\n]\n",
       "3467     [\\n, Diesel (Particulate Filter), \\n]\n",
       "Name: Fuel, dtype: object"
      ]
     },
     "execution_count": 100,
     "metadata": {},
     "output_type": "execute_result"
    }
   ],
   "source": [
    "df.Fuel.sample(10)"
   ]
  },
  {
   "cell_type": "code",
   "execution_count": 101,
   "metadata": {},
   "outputs": [
    {
     "data": {
      "text/plain": [
       "array(['Diesel (Particulate Filter)', 'Gasoline', 'Super 95',\n",
       "       'Regular/Benzine 91', 'Diesel',\n",
       "       'Regular/Benzine 91 / Super Plus 98 / Regular/Benzine E10 91 / Super 95 / Super E10 95 / Super Plus E10 98',\n",
       "       'Super E10 95', 'Super 95 (Particulate Filter)',\n",
       "       'Super 95 / Regular/Benzine 91',\n",
       "       'Super 95 / Super Plus 98 / Super E10 95 / Super Plus E10 98',\n",
       "       'Super E10 95 / Super 95',\n",
       "       'Super 95 / Regular/Benzine 91 / Super Plus 98',\n",
       "       'Super 95 / Super Plus 98 / Super E10 95',\n",
       "       'Super 95 / Super Plus 98',\n",
       "       'Super 95 / Regular/Benzine 91 / Super E10 95 / Super Plus E10 98 / Super Plus 98 / Regular/Benzine E10 91',\n",
       "       'Others', 'Super 95 / Super E10 95',\n",
       "       'Gasoline (Particulate Filter)',\n",
       "       'Regular/Benzine E10 91 / Regular/Benzine 91 / Super 95 / Super Plus 98 / Super E10 95 / Super Plus E10 98',\n",
       "       'Super E10 95 / Super 95 / Super Plus 98 / Super Plus E10 98 (Particulate Filter)',\n",
       "       'Regular/Benzine E10 91',\n",
       "       'Super 95 / Super Plus 98 / Super Plus E10 98 / Super E10 95',\n",
       "       'Regular/Benzine 91 (Particulate Filter)',\n",
       "       'Super E10 95 (Particulate Filter)', 'Super Plus 98', 'CNG',\n",
       "       'Electric/Gasoline', 'CNG (Particulate Filter)',\n",
       "       'Others (Particulate Filter)',\n",
       "       'Super 95 / Super E10 95 (Particulate Filter)', 'Biogas',\n",
       "       'Super 95 / Biodiesel',\n",
       "       'Regular/Benzine 91 / Super 95 / Super Plus 98 / Regular/Benzine E10 91 / Super Plus E10 98 / Super E10 95',\n",
       "       'Super E10 95 / Super 95 / Super Plus 98 / Super Plus E10 98',\n",
       "       'Regular/Benzine 91 / Super 95 / Super Plus 98 / Super Plus E10 98 / Super E10 95 / Regular/Benzine E10 91 (Particulate Filter)',\n",
       "       'Regular/Benzine 91 / Super 95 / Super Plus 98',\n",
       "       'Regular/Benzine 91 / Super 95',\n",
       "       'Regular/Benzine 91 / Super 95 / Super Plus 98 / Regular/Benzine E10 91 / Super E10 95 / Super Plus E10 98',\n",
       "       'Super 95 / Regular/Benzine 91 / Super Plus 98 / Regular/Benzine E10 91 / Super E10 95 / Super Plus E10 98',\n",
       "       'Domestic gas H',\n",
       "       'Super 95 / Super E10 95 / Super Plus E10 98 / Super Plus 98',\n",
       "       'Regular/Benzine 91 / Regular/Benzine E10 91',\n",
       "       'Super E10 95 / Regular/Benzine 91 / Super 95 / Super Plus 98 / Regular/Benzine E10 91 / Super Plus E10 98',\n",
       "       'Super Plus E10 98 / Super 95 / Super Plus 98 / Super E10 95',\n",
       "       'Super 95 / Super Plus 98 (Particulate Filter)',\n",
       "       'Super Plus 98 / Super 95 / Super E10 95',\n",
       "       'Super 95 / Super Plus 98 / Super E10 95 / Super Plus E10 98 (Particulate Filter)',\n",
       "       'Super Plus E10 98',\n",
       "       'Regular/Benzine 91 / Super 95 / Regular/Benzine E10 91',\n",
       "       'Super Plus 98 / Super E10 95',\n",
       "       'Regular/Benzine 91 / Super 95 / Regular/Benzine E10 91 / Super E10 95 / Super Plus 98 / Super Plus E10 98',\n",
       "       'Super 95 / Regular/Benzine 91 / Super Plus 98 / Regular/Benzine E10 91 / Super Plus E10 98 / Super E10 95',\n",
       "       'LPG', 'Liquid petroleum gas (LPG)',\n",
       "       'Super 95 / Regular/Benzine 91 / Super E10 95 / Super Plus E10 98 / Super Plus 98',\n",
       "       'Regular/Benzine E10 91 / Super E10 95 / Super Plus E10 98 / Super Plus 98 / Super 95 / Regular/Benzine 91',\n",
       "       'Regular/Benzine 91 / Super 95 / Super E10 95',\n",
       "       'Super 95 / Regular/Benzine E10 91 / Super E10 95',\n",
       "       'Regular/Benzine 91 / Super 95 / Super E10 95 / Regular/Benzine E10 91',\n",
       "       'Super E10 95 / Super Plus E10 98',\n",
       "       'Super 95 / Regular/Benzine 91 / Super E10 95 / Super Plus 98 / Super Plus E10 98 / Regular/Benzine E10 91',\n",
       "       'Super E10 95 / Super 95 / Super Plus 98',\n",
       "       'Super E10 95 / Regular/Benzine 91 / Regular/Benzine E10 91 / Super 95',\n",
       "       'Super 95 / Regular/Benzine E10 91',\n",
       "       'Regular/Benzine 91 / Super 95 / Super Plus E10 98 / Super E10 95 / Regular/Benzine E10 91 / Super Plus 98',\n",
       "       'Regular/Benzine 91 / Super 95 / Super Plus 98 / Super Plus E10 98 / Super E10 95 / Regular/Benzine E10 91',\n",
       "       'Super 95 / Super E10 95 / Super Plus E10 98',\n",
       "       'Regular/Benzine 91 / Super 95 / Super E10 95 / Super Plus E10 98 / Super Plus 98 / Regular/Benzine E10 91',\n",
       "       'Super 95 / Super Plus 98 / Regular/Benzine E10 91 / Super Plus E10 98 / Super E10 95 / Regular/Benzine 91',\n",
       "       'Super Plus 98 / Regular/Benzine 91',\n",
       "       'Super 95 / Regular/Benzine 91 (Particulate Filter)',\n",
       "       'Super 95 / Super E10 95 / Regular/Benzine 91',\n",
       "       'Super 95 / Super E10 95 / Super Plus 98', 'Electric',\n",
       "       'Super E10 95 / Regular/Benzine 91',\n",
       "       'Super 95 / Super Plus 98 / Super Plus E10 98',\n",
       "       'Super Plus 98 / Super 95 / Super Plus E10 98'], dtype=object)"
      ]
     },
     "execution_count": 101,
     "metadata": {},
     "output_type": "execute_result"
    }
   ],
   "source": [
    "df.Fuel.str[1].unique()"
   ]
  },
  {
   "cell_type": "code",
   "execution_count": 102,
   "metadata": {},
   "outputs": [
    {
     "data": {
      "text/plain": [
       "0        Diesel (Particulate Filter)\n",
       "1                           Gasoline\n",
       "2        Diesel (Particulate Filter)\n",
       "3        Diesel (Particulate Filter)\n",
       "4        Diesel (Particulate Filter)\n",
       "                    ...             \n",
       "15914    Diesel (Particulate Filter)\n",
       "15915                       Super 95\n",
       "15916                         Diesel\n",
       "15917                         Diesel\n",
       "15918                       Super 95\n",
       "Name: Fuel, Length: 15919, dtype: object"
      ]
     },
     "execution_count": 102,
     "metadata": {},
     "output_type": "execute_result"
    }
   ],
   "source": [
    "df.Fuel.str[1].str.split(\"/\").str[0].str.strip()"
   ]
  },
  {
   "cell_type": "code",
   "execution_count": 103,
   "metadata": {},
   "outputs": [],
   "source": [
    "df.Fuel = df.Fuel.str[1].str.split(\"/\").str[0].str.strip()"
   ]
  },
  {
   "cell_type": "code",
   "execution_count": 104,
   "metadata": {},
   "outputs": [
    {
     "data": {
      "text/plain": [
       "0          Diesel\n",
       "1        Gasoline\n",
       "2          Diesel\n",
       "3          Diesel\n",
       "4          Diesel\n",
       "           ...   \n",
       "15914      Diesel\n",
       "15915    Super 95\n",
       "15916      Diesel\n",
       "15917      Diesel\n",
       "15918    Super 95\n",
       "Name: Fuel, Length: 15919, dtype: object"
      ]
     },
     "execution_count": 104,
     "metadata": {},
     "output_type": "execute_result"
    }
   ],
   "source": [
    "df.Fuel.str.split(\"(\").str[0].str.strip()"
   ]
  },
  {
   "cell_type": "code",
   "execution_count": 105,
   "metadata": {},
   "outputs": [],
   "source": [
    "df.Fuel=df.Fuel.str.split(\"(\").str[0].str.strip()"
   ]
  },
  {
   "cell_type": "markdown",
   "metadata": {},
   "source": [
    "    >> Group those with the same or close type of fuel to reduce complexity."
   ]
  },
  {
   "cell_type": "code",
   "execution_count": 106,
   "metadata": {},
   "outputs": [],
   "source": [
    "benzine = [\"Gasoline\", \"Super 95\",\"Regular\",\"Super E10 95\",\"Super Plus 98\",\"Super Plus E10 98\", \"Others\"]\n",
    "lpg = [\"LPG\",\"Liquid petroleum gas\", \"CNG\", \"Biogas\", \"Domestic gas H\"]"
   ]
  },
  {
   "cell_type": "code",
   "execution_count": 107,
   "metadata": {},
   "outputs": [],
   "source": [
    "fueltype = lambda x : (\"Benzine\"*(x in benzine)) or (\"LPG/CNG\"*(x in lpg)) or x"
   ]
  },
  {
   "cell_type": "code",
   "execution_count": 108,
   "metadata": {},
   "outputs": [
    {
     "data": {
      "text/plain": [
       "array(['Diesel', 'Benzine', 'LPG/CNG', 'Electric'], dtype=object)"
      ]
     },
     "execution_count": 108,
     "metadata": {},
     "output_type": "execute_result"
    }
   ],
   "source": [
    "df.Fuel.apply(fueltype).unique()"
   ]
  },
  {
   "cell_type": "code",
   "execution_count": 109,
   "metadata": {},
   "outputs": [],
   "source": [
    "df.Fuel = df.Fuel.apply(fueltype)"
   ]
  },
  {
   "cell_type": "code",
   "execution_count": 110,
   "metadata": {
    "scrolled": true
   },
   "outputs": [
    {
     "data": {
      "text/plain": [
       "Benzine     8551\n",
       "Diesel      7299\n",
       "LPG/CNG       64\n",
       "Electric       5\n",
       "Name: Fuel, dtype: int64"
      ]
     },
     "execution_count": 110,
     "metadata": {},
     "output_type": "execute_result"
    }
   ],
   "source": [
    "df.Fuel.value_counts(dropna=False)"
   ]
  },
  {
   "cell_type": "markdown",
   "metadata": {},
   "source": [
    "## Consumption"
   ]
  },
  {
   "cell_type": "code",
   "execution_count": 111,
   "metadata": {},
   "outputs": [
    {
     "data": {
      "text/plain": [
       "660      [\\n, 4.2 l/100 km (comb), \\n, 5 l/100 km (city...\n",
       "13551    [[3.3 l/100 km (comb)], [3.5 l/100 km (city)],...\n",
       "5770     [\\n, 5.1 l/100 km (comb), \\n, 6.3 l/100 km (ci...\n",
       "2341     [\\n, 4.8 l/100 km (comb), \\n, 5.9 l/100 km (ci...\n",
       "3190     [[4 l/100 km (comb)], [4.7 l/100 km (city)], [...\n",
       "15616    [[4.7 l/100 km (comb)], [5.1 l/100 km (city)],...\n",
       "1043     [[4.4 l/100 km (comb)], [5.4 l/100 km (city)],...\n",
       "2450     [\\n, 4.7 l/100 km (comb), \\n, 5.9 l/100 km (ci...\n",
       "3545     [[3.8 l/100 km (comb)], [4.3 l/100 km (city)],...\n",
       "1836     [[3.8 l/100 km (comb)], [4.6 l/100 km (city)],...\n",
       "Name: Consumption, dtype: object"
      ]
     },
     "execution_count": 111,
     "metadata": {},
     "output_type": "execute_result"
    }
   ],
   "source": [
    "df.Consumption.sample(10)"
   ]
  },
  {
   "cell_type": "code",
   "execution_count": 112,
   "metadata": {},
   "outputs": [],
   "source": [
    "def parser1(x):\n",
    "    if type(x) == float:\n",
    "        return np.nan\n",
    "    elif type(x[0]) == list:\n",
    "        if x[0] != []:\n",
    "            return x[0][0]\n",
    "        else:\n",
    "            return np.nan\n",
    "    else:\n",
    "        return x[1]\n",
    "\n",
    "def parser2(x):\n",
    "    if type(x) == float:\n",
    "        return np.nan\n",
    "    elif type(x[0]) == list:\n",
    "        if x[1] != []:\n",
    "            return x[1][0]\n",
    "        else:\n",
    "            return np.nan\n",
    "    elif x[3].endswith(')'):\n",
    "        return x[3]\n",
    "    else:\n",
    "        return np.nan\n",
    "\n",
    "def parser3(x):\n",
    "    if type(x) == float:\n",
    "        return np.nan\n",
    "    elif type(x[0]) == list:\n",
    "        if x[2] != []:\n",
    "            return x[2][0]\n",
    "        else:\n",
    "            return np.nan\n",
    "    elif type(x[0]) != list and x[3].endswith(')'):\n",
    "        return x[5]\n",
    "    else:\n",
    "        return np.nan"
   ]
  },
  {
   "cell_type": "code",
   "execution_count": 113,
   "metadata": {},
   "outputs": [],
   "source": [
    "df['Combumption_Comb'] = df.Consumption.apply(parser1).str.extract('(\\d{1,2}.\\d|\\d{1,3})')[0].astype(\"float\")\n",
    "df['Consumption_City'] = df.Consumption.apply(parser2).str.extract('(\\d{1,2}.\\d|\\d{1,3})')[0].astype(\"float\")\n",
    "df['Consumption_Country'] = df.Consumption.apply(parser3).str.extract('(\\d{1,2}.\\d|\\d{1,3})')[0].astype(\"float\")"
   ]
  },
  {
   "cell_type": "code",
   "execution_count": 114,
   "metadata": {},
   "outputs": [],
   "source": [
    "df.drop('Consumption', axis=1,inplace=True)"
   ]
  },
  {
   "cell_type": "markdown",
   "metadata": {},
   "source": [
    "## CO2_Emission"
   ]
  },
  {
   "cell_type": "code",
   "execution_count": 115,
   "metadata": {},
   "outputs": [
    {
     "data": {
      "text/plain": [
       "14113    [\\n114 g CO2/km (comb)\\n]\n",
       "15783    [\\n168 g CO2/km (comb)\\n]\n",
       "2749     [\\n102 g CO2/km (comb)\\n]\n",
       "2938     [\\n116 g CO2/km (comb)\\n]\n",
       "4569     [\\n103 g CO2/km (comb)\\n]\n",
       "7822     [\\n130 g CO2/km (comb)\\n]\n",
       "2840      [\\n99 g CO2/km (comb)\\n]\n",
       "13372     [\\n92 g CO2/km (comb)\\n]\n",
       "5519     [\\n114 g CO2/km (comb)\\n]\n",
       "10895    [\\n118 g CO2/km (comb)\\n]\n",
       "Name: CO2_Emission, dtype: object"
      ]
     },
     "execution_count": 115,
     "metadata": {},
     "output_type": "execute_result"
    }
   ],
   "source": [
    "df.CO2_Emission.sample(10)"
   ]
  },
  {
   "cell_type": "code",
   "execution_count": 116,
   "metadata": {},
   "outputs": [],
   "source": [
    "df.CO2_Emission=df.CO2_Emission.apply(lambda x : x[0] if type(x)==list else x).str.strip('\\n').str.extract('(\\d*)')[0].astype(\"float\")"
   ]
  },
  {
   "cell_type": "code",
   "execution_count": 117,
   "metadata": {},
   "outputs": [
    {
     "data": {
      "text/plain": [
       "NaN      2436\n",
       "120.0     740\n",
       "99.0      545\n",
       "97.0      537\n",
       "104.0     501\n",
       "         ... \n",
       "193.0       1\n",
       "239.0       1\n",
       "51.0        1\n",
       "45.0        1\n",
       "253.0       1\n",
       "Name: CO2_Emission, Length: 120, dtype: int64"
      ]
     },
     "execution_count": 117,
     "metadata": {},
     "output_type": "execute_result"
    }
   ],
   "source": [
    "df.CO2_Emission.value_counts(dropna=False)"
   ]
  },
  {
   "cell_type": "markdown",
   "metadata": {},
   "source": [
    "## Emission_Class"
   ]
  },
  {
   "cell_type": "code",
   "execution_count": 118,
   "metadata": {},
   "outputs": [
    {
     "data": {
      "text/plain": [
       "11214          [\\nEuro 6\\n]\n",
       "50             [\\nEuro 6\\n]\n",
       "6137           [\\nEuro 6\\n]\n",
       "10027    [\\nEuro 6d-TEMP\\n]\n",
       "3806           [\\nEuro 6\\n]\n",
       "2111     [\\nEuro 6d-TEMP\\n]\n",
       "7939     [\\nEuro 6d-TEMP\\n]\n",
       "7592     [\\nEuro 6d-TEMP\\n]\n",
       "11671                   NaN\n",
       "11213          [\\nEuro 6\\n]\n",
       "1223           [\\nEuro 6\\n]\n",
       "14851          [\\nEuro 6\\n]\n",
       "15294          [\\nEuro 6\\n]\n",
       "9533           [\\nEuro 6\\n]\n",
       "10133    [\\nEuro 6d-TEMP\\n]\n",
       "9795           [\\nEuro 6\\n]\n",
       "2877           [\\nEuro 6\\n]\n",
       "10287    [\\nEuro 6d-TEMP\\n]\n",
       "13186                   NaN\n",
       "4808           [\\nEuro 6\\n]\n",
       "Name: Emission_Class, dtype: object"
      ]
     },
     "execution_count": 118,
     "metadata": {},
     "output_type": "execute_result"
    }
   ],
   "source": [
    "df.Emission_Class.sample(20)"
   ]
  },
  {
   "cell_type": "code",
   "execution_count": 119,
   "metadata": {},
   "outputs": [],
   "source": [
    "df.Emission_Class = df.Emission_Class.apply(lambda x : x[0] if type(x)==list else x).str.strip(\"\\n\")"
   ]
  },
  {
   "cell_type": "code",
   "execution_count": 120,
   "metadata": {},
   "outputs": [
    {
     "data": {
      "text/plain": [
       "Euro 6          10139\n",
       "NaN              3628\n",
       "Euro 6d-TEMP     1845\n",
       "Euro 6c           127\n",
       "Euro 5             78\n",
       "Euro 6d            62\n",
       "Euro 4             40\n",
       "Name: Emission_Class, dtype: int64"
      ]
     },
     "execution_count": 120,
     "metadata": {},
     "output_type": "execute_result"
    }
   ],
   "source": [
    "df.Emission_Class.value_counts(dropna=False)"
   ]
  },
  {
   "cell_type": "markdown",
   "metadata": {},
   "source": [
    "    >> Group them"
   ]
  },
  {
   "cell_type": "code",
   "execution_count": 121,
   "metadata": {},
   "outputs": [],
   "source": [
    "df.Emission_Class=df.Emission_Class.str.extract('(Euro \\d)')[0]"
   ]
  },
  {
   "cell_type": "code",
   "execution_count": 122,
   "metadata": {},
   "outputs": [],
   "source": [
    "# Alternative\n",
    "# df.replace({\"Emission_Class\" : {\"Euro 6d-TEMP\":\"Euro 6\", \"Euro 6c\":\"Euro 6\", \"Euro 6d\":\"Euro 6\"}}, regex = True, inplace = True)"
   ]
  },
  {
   "cell_type": "code",
   "execution_count": 123,
   "metadata": {},
   "outputs": [
    {
     "data": {
      "text/plain": [
       "Euro 6    12173\n",
       "NaN        3628\n",
       "Euro 5       78\n",
       "Euro 4       40\n",
       "Name: Emission_Class, dtype: int64"
      ]
     },
     "execution_count": 123,
     "metadata": {},
     "output_type": "execute_result"
    }
   ],
   "source": [
    "df.Emission_Class.value_counts(dropna=False)"
   ]
  },
  {
   "cell_type": "markdown",
   "metadata": {},
   "source": [
    "## Gears"
   ]
  },
  {
   "cell_type": "code",
   "execution_count": 124,
   "metadata": {},
   "outputs": [
    {
     "data": {
      "text/plain": [
       "15420    [\\n6\\n]\n",
       "14398        NaN\n",
       "15119        NaN\n",
       "14123        NaN\n",
       "14603    [\\n5\\n]\n",
       "11501    [\\n6\\n]\n",
       "10314        NaN\n",
       "9857     [\\n6\\n]\n",
       "5103     [\\n7\\n]\n",
       "13929        NaN\n",
       "Name: Gears, dtype: object"
      ]
     },
     "execution_count": 124,
     "metadata": {},
     "output_type": "execute_result"
    }
   ],
   "source": [
    "df.Gears.sample(10)"
   ]
  },
  {
   "cell_type": "code",
   "execution_count": 125,
   "metadata": {},
   "outputs": [],
   "source": [
    "df.Gears = df.Gears.str[0].str.strip('\\n')"
   ]
  },
  {
   "cell_type": "markdown",
   "metadata": {},
   "source": [
    "## Comfort_Convenience"
   ]
  },
  {
   "cell_type": "code",
   "execution_count": 126,
   "metadata": {},
   "outputs": [
    {
     "data": {
      "text/plain": [
       "10090    [Air conditioning, Cruise control, Electricall...\n",
       "4654     [Air conditioning, Armrest, Automatic climate ...\n",
       "7751     [Air conditioning, Armrest, Automatic climate ...\n",
       "12038    [Air conditioning, Armrest, Automatic climate ...\n",
       "318      [Air conditioning, Armrest, Automatic climate ...\n",
       "8793     [Air conditioning, Electrical side mirrors, Mu...\n",
       "11151    [Air conditioning, Cruise control, Electricall...\n",
       "15042    [Air conditioning, Automatic climate control, ...\n",
       "9037     [Air conditioning, Cruise control, Electrical ...\n",
       "553      [Air conditioning, Automatic climate control, ...\n",
       "2361                                                   NaN\n",
       "6872     [Air conditioning, Armrest, Automatic climate ...\n",
       "9788     [Air conditioning, Electrical side mirrors, Hi...\n",
       "2893     [Air conditioning, Electrical side mirrors, Mu...\n",
       "11823    [Air conditioning, Armrest, Automatic climate ...\n",
       "7600     [Air conditioning, Armrest, Automatic climate ...\n",
       "10235    [Air conditioning, Electrical side mirrors, Le...\n",
       "3487     [Air conditioning, Armrest, Automatic climate ...\n",
       "3068                                                   NaN\n",
       "15727             [Cruise control, Power windows, Sunroof]\n",
       "Name: Comfort_Convenience, dtype: object"
      ]
     },
     "execution_count": 126,
     "metadata": {},
     "output_type": "execute_result"
    }
   ],
   "source": [
    "df.Comfort_Convenience.sample(20)"
   ]
  },
  {
   "cell_type": "code",
   "execution_count": 127,
   "metadata": {},
   "outputs": [],
   "source": [
    "df.Comfort_Convenience=df.Comfort_Convenience.apply(lambda x : \",\".join(x) if type(x)==list else x)"
   ]
  },
  {
   "cell_type": "code",
   "execution_count": 128,
   "metadata": {},
   "outputs": [
    {
     "data": {
      "text/plain": [
       "Air conditioning,Electrical side mirrors,Hill Holder,Power windows                                                                                                                                                                                                                                                                                                                                                                              216\n",
       "Air conditioning,Electrical side mirrors,Power windows                                                                                                                                                                                                                                                                                                                                                                                          134\n",
       "Air conditioning,Power windows                                                                                                                                                                                                                                                                                                                                                                                                                  130\n",
       "Air conditioning,Armrest,Automatic climate control,Cruise control,Electrical side mirrors,Leather steering wheel,Light sensor,Lumbar support,Multi-function steering wheel,Navigation system,Park Distance Control,Parking assist system sensors front,Parking assist system sensors rear,Power windows,Rain sensor,Seat heating,Start-stop system                                                                                              105\n",
       "Air conditioning,Armrest,Automatic climate control,Cruise control,Electrical side mirrors,Hill Holder,Leather steering wheel,Light sensor,Multi-function steering wheel,Navigation system,Park Distance Control,Parking assist system sensors rear,Power windows,Rain sensor,Seat heating,Start-stop system                                                                                                                                      92\n",
       "                                                                                                                                                                                                                                                                                                                                                                                                                                               ... \n",
       "Air conditioning,Armrest,Cruise control,Electrical side mirrors,Leather steering wheel,Light sensor,Multi-function steering wheel,Navigation system,Park Distance Control,Parking assist system camera,Parking assist system sensors front,Parking assist system sensors rear,Power windows,Start-stop system                                                                                                                                     1\n",
       "Air conditioning,Armrest,Automatic climate control,Electrically heated windshield,Electrical side mirrors,Keyless central door lock,Leather steering wheel,Light sensor,Lumbar support,Multi-function steering wheel,Parking assist system sensors rear,Power windows,Rain sensor,Seat heating,Start-stop system                                                                                                                                  1\n",
       "Air conditioning,Cruise control,Navigation system,Power windows,Tinted windows                                                                                                                                                                                                                                                                                                                                                                    1\n",
       "Cruise control,Electrically adjustable seats,Electrical side mirrors,Multi-function steering wheel,Navigation system,Rain sensor,Seat heating,Sunroof                                                                                                                                                                                                                                                                                             1\n",
       "Air conditioning,Armrest,Automatic climate control,Cruise control,Electrically adjustable seats,Electrical side mirrors,Electric tailgate,Heads-up display,Keyless central door lock,Leather steering wheel,Light sensor,Lumbar support,Navigation system,Park Distance Control,Parking assist system camera,Parking assist system sensors front,Parking assist system sensors rear,Power windows,Rain sensor,Seat heating,Start-stop system      1\n",
       "Name: Comfort_Convenience, Length: 6198, dtype: int64"
      ]
     },
     "execution_count": 128,
     "metadata": {},
     "output_type": "execute_result"
    }
   ],
   "source": [
    "df.Comfort_Convenience.value_counts()"
   ]
  },
  {
   "cell_type": "markdown",
   "metadata": {},
   "source": [
    "## Entertainment_Media"
   ]
  },
  {
   "cell_type": "code",
   "execution_count": 129,
   "metadata": {},
   "outputs": [
    {
     "data": {
      "text/plain": [
       "8194     [Bluetooth, Hands-free equipment, On-board com...\n",
       "9076     [Bluetooth, CD player, Hands-free equipment, O...\n",
       "11374                                                  NaN\n",
       "13857    [Bluetooth, Hands-free equipment, On-board com...\n",
       "3009     [Bluetooth, CD player, Hands-free equipment, M...\n",
       "8843     [Bluetooth, Digital radio, Hands-free equipmen...\n",
       "7530     [Bluetooth, Hands-free equipment, On-board com...\n",
       "3272                                          [MP3, Radio]\n",
       "9866                         [Bluetooth, CD player, Radio]\n",
       "2018     [Bluetooth, CD player, Hands-free equipment, M...\n",
       "Name: Entertainment_Media, dtype: object"
      ]
     },
     "execution_count": 129,
     "metadata": {},
     "output_type": "execute_result"
    }
   ],
   "source": [
    "df.Entertainment_Media.sample(10)"
   ]
  },
  {
   "cell_type": "code",
   "execution_count": 130,
   "metadata": {},
   "outputs": [
    {
     "data": {
      "text/plain": [
       "NaN                                                                                                         1374\n",
       "Bluetooth,Hands-free equipment,On-board computer,Radio,USB                                                  1282\n",
       "Bluetooth,Hands-free equipment,MP3,On-board computer,Radio,USB                                               982\n",
       "Bluetooth,CD player,Hands-free equipment,MP3,On-board computer,Radio,USB                                     783\n",
       "On-board computer,Radio                                                                                      487\n",
       "                                                                                                            ... \n",
       "Bluetooth,Digital radio,MP3,Sound system,USB                                                                   1\n",
       "Bluetooth,CD player,Digital radio,Hands-free equipment,MP3,On-board computer,Sound system,Television,USB       1\n",
       "CD player,Digital radio,MP3                                                                                    1\n",
       "Bluetooth,Digital radio,MP3,On-board computer,Radio,Sound system                                               1\n",
       "Bluetooth,CD player,Hands-free equipment,On-board computer,Sound system,Television,USB                         1\n",
       "Name: Entertainment_Media, Length: 347, dtype: int64"
      ]
     },
     "execution_count": 130,
     "metadata": {},
     "output_type": "execute_result"
    }
   ],
   "source": [
    "df.Entertainment_Media=df.Entertainment_Media.apply(lambda x : \",\".join(x) if type(x)==list else x)\n",
    "df.Entertainment_Media.value_counts(dropna=False)"
   ]
  },
  {
   "cell_type": "markdown",
   "metadata": {},
   "source": [
    "## Extras"
   ]
  },
  {
   "cell_type": "code",
   "execution_count": 131,
   "metadata": {},
   "outputs": [
    {
     "data": {
      "text/plain": [
       "3619         [Alloy wheels, Sport seats, Sport suspension]\n",
       "10548    [Alloy wheels, Catalytic Converter, Roof rack,...\n",
       "13801    [Alloy wheels, Shift paddles, Sport package, S...\n",
       "15071                         [Alloy wheels, Touch screen]\n",
       "7398                             [Roof rack, Touch screen]\n",
       "1437            [Alloy wheels, Sport seats, Voice Control]\n",
       "10080                                       [Alloy wheels]\n",
       "4941                             [Alloy wheels, Roof rack]\n",
       "6298                                           [Roof rack]\n",
       "3041                                        [Alloy wheels]\n",
       "Name: Extras, dtype: object"
      ]
     },
     "execution_count": 131,
     "metadata": {},
     "output_type": "execute_result"
    }
   ],
   "source": [
    "df.Extras.sample(10)"
   ]
  },
  {
   "cell_type": "code",
   "execution_count": 132,
   "metadata": {},
   "outputs": [],
   "source": [
    "df.Extras=df.Extras.apply(lambda x : \",\".join(x) if type(x)==list else x)"
   ]
  },
  {
   "cell_type": "code",
   "execution_count": 133,
   "metadata": {},
   "outputs": [
    {
     "data": {
      "text/plain": [
       "Alloy wheels                                                                        3245\n",
       "NaN                                                                                 2962\n",
       "Alloy wheels,Touch screen                                                            697\n",
       "Alloy wheels,Voice Control                                                           577\n",
       "Alloy wheels,Touch screen,Voice Control                                              541\n",
       "                                                                                    ... \n",
       "Alloy wheels,Catalytic Converter,Ski bag,Sport package,Sport seats,Voice Control       1\n",
       "Roof rack,Sport seats,Trailer hitch                                                    1\n",
       "Alloy wheels,Handicapped enabled,Shift paddles,Sport seats,Touch screen                1\n",
       "Catalytic Converter,Roof rack,Shift paddles,Touch screen,Trailer hitch                 1\n",
       "Alloy wheels,Catalytic Converter,Roof rack,Sport suspension                            1\n",
       "Name: Extras, Length: 660, dtype: int64"
      ]
     },
     "execution_count": 133,
     "metadata": {},
     "output_type": "execute_result"
    }
   ],
   "source": [
    "df.Extras.value_counts(dropna=False)"
   ]
  },
  {
   "cell_type": "markdown",
   "metadata": {},
   "source": [
    "## Safety_Security"
   ]
  },
  {
   "cell_type": "code",
   "execution_count": 134,
   "metadata": {},
   "outputs": [
    {
     "data": {
      "text/plain": [
       "6355     [ABS, Central door lock, Daytime running light...\n",
       "5965     [ABS, Central door lock, Daytime running light...\n",
       "12300                    [Fog lights, Immobilizer, Isofix]\n",
       "9969     [ABS, Central door lock, Daytime running light...\n",
       "891      [ABS, Central door lock, Daytime running light...\n",
       "2668     [ABS, Alarm system, Central door lock, Central...\n",
       "4771     [ABS, Central door lock, Driver-side airbag, E...\n",
       "769                                                    NaN\n",
       "10118    [ABS, Central door lock, Daytime running light...\n",
       "11437    [ABS, Adaptive headlights, Blind spot monitor,...\n",
       "Name: Safety_Security, dtype: object"
      ]
     },
     "execution_count": 134,
     "metadata": {},
     "output_type": "execute_result"
    }
   ],
   "source": [
    "df.Safety_Security.sample(10)"
   ]
  },
  {
   "cell_type": "code",
   "execution_count": 135,
   "metadata": {},
   "outputs": [],
   "source": [
    "df.Safety_Security=df.Safety_Security.apply(lambda x : \",\".join(x) if type(x)==list else x)"
   ]
  },
  {
   "cell_type": "code",
   "execution_count": 136,
   "metadata": {},
   "outputs": [
    {
     "data": {
      "text/plain": [
       "'ABS,Central door lock,Daytime running lights,Driver-side airbag,Electronic stability control,Fog lights,Immobilizer,Isofix,Passenger-side airbag,Power steering,Side airbag,Tire pressure monitoring system,Traction control,Xenon headlights'"
      ]
     },
     "execution_count": 136,
     "metadata": {},
     "output_type": "execute_result"
    }
   ],
   "source": [
    "df.Safety_Security[0]"
   ]
  },
  {
   "cell_type": "markdown",
   "metadata": {},
   "source": [
    "    >> All columns are cleaned"
   ]
  },
  {
   "cell_type": "code",
   "execution_count": 137,
   "metadata": {},
   "outputs": [
    {
     "data": {
      "text/plain": [
       "(15919, 36)"
      ]
     },
     "execution_count": 137,
     "metadata": {},
     "output_type": "execute_result"
    }
   ],
   "source": [
    "df.shape"
   ]
  },
  {
   "cell_type": "code",
   "execution_count": 138,
   "metadata": {},
   "outputs": [
    {
     "name": "stdout",
     "output_type": "stream",
     "text": [
      "<class 'pandas.core.frame.DataFrame'>\n",
      "RangeIndex: 15919 entries, 0 to 15918\n",
      "Data columns (total 36 columns):\n",
      " #   Column               Non-Null Count  Dtype  \n",
      "---  ------               --------------  -----  \n",
      " 0   url                  15919 non-null  object \n",
      " 1   make_model           15919 non-null  object \n",
      " 2   body_type            15859 non-null  object \n",
      " 3   price                15919 non-null  int64  \n",
      " 4   vat                  11406 non-null  object \n",
      " 5   km                   14895 non-null  float64\n",
      " 6   hp                   15831 non-null  float64\n",
      " 7   Type                 15917 non-null  object \n",
      " 8   Previous_Owners      9279 non-null   float64\n",
      " 9   Inspection_New       3932 non-null   object \n",
      " 10  Warranty             4853 non-null   float64\n",
      " 11  Make                 15919 non-null  object \n",
      " 12  Model                15919 non-null  object \n",
      " 13  Body_Color           15322 non-null  object \n",
      " 14  Paint_Type           10147 non-null  object \n",
      " 15  Nr_of_Doors          15707 non-null  float64\n",
      " 16  Nr_of_Seats          14942 non-null  float64\n",
      " 17  Gearing_Type         15919 non-null  object \n",
      " 18  Displacement         15423 non-null  float64\n",
      " 19  Cylinders            10239 non-null  float64\n",
      " 20  Weight               8945 non-null   float64\n",
      " 21  Drive_Chain          9061 non-null   object \n",
      " 22  Fuel                 15919 non-null  object \n",
      " 23  CO2_Emission         13483 non-null  float64\n",
      " 24  Emission_Class       12291 non-null  object \n",
      " 25  Gears                11207 non-null  object \n",
      " 26  Comfort_Convenience  14999 non-null  object \n",
      " 27  Entertainment_Media  14545 non-null  object \n",
      " 28  Extras               12957 non-null  object \n",
      " 29  Safety_Security      14937 non-null  object \n",
      " 30  Age                  14322 non-null  float64\n",
      " 31  Upholstery_Type      11048 non-null  object \n",
      " 32  Upholstery_Color     10841 non-null  object \n",
      " 33  Combumption_Comb     13886 non-null  float64\n",
      " 34  Consumption_City     13483 non-null  float64\n",
      " 35  Consumption_Country  13543 non-null  float64\n",
      "dtypes: float64(14), int64(1), object(21)\n",
      "memory usage: 4.4+ MB\n"
     ]
    }
   ],
   "source": [
    "df.info()"
   ]
  },
  {
   "cell_type": "code",
   "execution_count": 139,
   "metadata": {},
   "outputs": [],
   "source": [
    "df.to_csv(\"clean_scout_20201204.csv\", index=False)"
   ]
  },
  {
   "cell_type": "code",
   "execution_count": null,
   "metadata": {},
   "outputs": [],
   "source": []
  },
  {
   "cell_type": "code",
   "execution_count": null,
   "metadata": {},
   "outputs": [],
   "source": []
  }
 ],
 "metadata": {
  "kernelspec": {
   "display_name": "Python 3 (ipykernel)",
   "language": "python",
   "name": "python3"
  },
  "language_info": {
   "codemirror_mode": {
    "name": "ipython",
    "version": 3
   },
   "file_extension": ".py",
   "mimetype": "text/x-python",
   "name": "python",
   "nbconvert_exporter": "python",
   "pygments_lexer": "ipython3",
   "version": "3.8.8"
  }
 },
 "nbformat": 4,
 "nbformat_minor": 4
}
